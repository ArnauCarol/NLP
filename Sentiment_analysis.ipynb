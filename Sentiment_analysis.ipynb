{
  "cells": [
    {
      "cell_type": "markdown",
      "source": [
        "# **Text Classification**"
      ],
      "metadata": {
        "id": "_fkSmrOjaeTz"
      }
    },
    {
      "cell_type": "code",
      "execution_count": 4,
      "metadata": {
        "execution": {
          "iopub.execute_input": "2021-01-13T03:51:08.377448Z",
          "iopub.status.busy": "2021-01-13T03:51:08.376763Z",
          "iopub.status.idle": "2021-01-13T03:51:15.989069Z",
          "shell.execute_reply": "2021-01-13T03:51:15.988434Z"
        },
        "id": "z682XYsrjkY9"
      },
      "outputs": [],
      "source": [
        "# Libraries\n",
        "import numpy as np\n",
        "import tensorflow_datasets as tfds\n",
        "import tensorflow as tf\n",
        "import matplotlib.pyplot as plt\n",
        "from tensorflow.keras import layers \n",
        "import pandas as pd"
      ]
    },
    {
      "cell_type": "markdown",
      "metadata": {
        "id": "pRmMubr0jrE2"
      },
      "source": [
        "## Loading IMBD Dataset\n",
        "\n",
        "\n",
        "We’ll work with the IMDB dataset: a set of 50,000 highly polarized reviews from the Internet Movie Database. They’re split into 25,000 reviews for training and 25,000 reviews for testing, each set consisting of 50% negative and 50% positive reviews. The parameter num_words controls how many words different we want to use.\n",
        "\n",
        "\n",
        "We are going to download the dataset using [TFDS](https://www.tensorflow.org/datasets). TFDS provides a collection of ready-to-use datasets for use with TensorFlow, Jax, and other Machine Learning frameworks.\n"
      ]
    },
    {
      "cell_type": "code",
      "execution_count": 5,
      "metadata": {
        "id": "PN51LEh8za1v"
      },
      "outputs": [],
      "source": [
        "!pip install -q tensorflow_datasets"
      ]
    },
    {
      "cell_type": "code",
      "execution_count": 6,
      "metadata": {
        "colab": {
          "base_uri": "https://localhost:8080/",
          "height": 169,
          "referenced_widgets": [
            "afb06c4d7fc94650a82887af94e377e7",
            "bfe9f539039844a48c254b514dce9628",
            "06634c8a0dc444b6931e8dc401d595b1",
            "f41e0973d5e04193bfb6c863a28f2644",
            "a86f20feb60544ce830bab925d64ae2a",
            "27df3a88630b4ec8b1edae7eeb3611cd",
            "411a1fa6b59f4658a930da278bcd0e33",
            "065c295b9c6948658ababc2e4faa9b22",
            "3d4df050d7fa451498bd13ee878d30a9",
            "bd76b59b926e4362a7fb07c7d1c40095",
            "0983b510653c4c11b2ea0f456fae4edf",
            "6d87aa023d384d7ea836cd6e57b3e42a",
            "dd93bf521961414681d3ff4ba82a8c7d",
            "b73ce31b1a534b5c8191f24fd3181bfb",
            "7b6f51594d1b4522ae3cd1a16b2760b6",
            "42df57dfcaa245609641ca483be3d294",
            "dbb7f0e0e14441e882e50c3cfe8f9444",
            "b08e1e9eec9f4706868bc06bca408b11",
            "401da2f384ef49ab9f607809d55a7a34",
            "c6be0076c446481daacfa3cb2ccd8dbf",
            "805fa959c44f4a5b8d1dd09a03c01239",
            "58f7a5d94fe444aa9781e1a51716a4ad",
            "7a4e94b018a347dfb7c722cf1925df59",
            "229aef7a134c41e2919a7c7c92f17594",
            "17db7995ac0e4a33929a7bdf314d6269",
            "91302fd6606242a8ad1a583b10535824",
            "1c5d78dbf5c143adaa5284d7215fc61c",
            "3d74d7f0def94fed9af06601841576c4",
            "f2803418ef99477facd1bc50251e6d25",
            "a4b8ce7eb5734ec890de8bbf80bf4e7d",
            "93ed9b9744904eb8bba429e6c2fd6692",
            "26dc01c5fdda4047aa03a0164acafe8b",
            "1afbac83a455480bb0dd74e1003c688c",
            "d3f5092add184b63aa96bb4d1c845bbb",
            "54727bb1ccd14021bc76ea42b1cdd2f5",
            "15333acf0159474e98533a33bd9f65bd",
            "af6c1e81339c4b24b8ca2d63873e8a25",
            "64476ffe650b412997f697d6c694d677",
            "c1b4a085de4b4bc695e48910e3e4f1b6",
            "24a16354d63c495a98b6f8cae156e87c",
            "7380c51ac1d5427dbd8286d6188dc5ac",
            "a14bded063944d32b7e0367dc317aeb4",
            "267107b5621f4ae0a141df8e991661f8",
            "a3965e5156b248f484b295d2466f7433",
            "389526f299b94904b2a18fa307012ab2",
            "63e57d516d9e4a1cba962705dba25005",
            "e995cc36e70342179ebc31bce14d9c4b",
            "3d084b3faab044bfb7bae8b2b7e58b0b",
            "38ec160dfec94a429468f70e87cfb91d",
            "d07e088299fa4fc2b42d03569c5ec924",
            "2339991a391a48ce8a4f6d72feb96bd8",
            "c36a17bc316b4b6791b52e018bf04394",
            "b475b1946fb64f07b45e7feefb27d819",
            "1403bf8d04f7443f8fadf2f67c58080d",
            "9514493443ef408eb0f5d810adc8a058",
            "49dd455433a045279edbc7a291573649",
            "34fed9d6a9664f0ea7f49fe14429041a",
            "12a4b8df78a34b9c8799539fa721bbb5",
            "1403c6fee8334529a70fcc8127a3dbbf",
            "f0d4fccd1dcc4979972ee85b26700812",
            "dbad80a591aa480ba775d3a7f281973d",
            "0d6746ca3697489794289173fe738372",
            "9a301e9470004f36931d671f81ff1511",
            "bceb4a0db29846749c657dfd4f0e607b",
            "3ce97cb45d2d4e1dad672d91353b5cc4",
            "b972632ca55f4e07b2183f5aca42b970",
            "024896c81c4c4600b04500b9c172fe5d",
            "24d0f97c95e54e1fac3ae0724370e388",
            "eaee472b21aa4533b0a819bd305ae3c7",
            "c2305a4839424bca9673afaa8eb634d7",
            "f5209804a62b4aad896090b8c25232d2",
            "035ee4c723304829ae7a5a070b81ddc7",
            "d5cac3b591ea4f4b9e99e347595c61a2",
            "5ecbc830c5fb4c83999f020773393576",
            "b4384442af6344d1879df59213d399f2",
            "9a24cbb563e34a72a123cbb2540d3a4e",
            "1d780107559a4370873dc260915733b5",
            "a8a62223f159404ab4082adaee0d7057",
            "afc7c1fbcbd54fd19514ef73fbf6a5de",
            "bc944b2c1c944244b56ffe40f732e2dc",
            "48b2f3cc32384b33af1aa60230a91fbe",
            "33a1fe88f8fd42fe8a19f9968103644f",
            "1b8619a2ae7243dbb761f64422ace02f",
            "622e1407c9c64bb1a21dc8d651edc64f",
            "f7dd21fd9ee545ec910ef97d32faa5c2",
            "e8cfcac305ba4b45b23e4223c4efb62b",
            "efd3df8648e6444d81899059e050779a",
            "6d2462106f2c4b64ab36c9469d453f56",
            "bf5f6d25552f488e8bc47aed023928f5",
            "92c0514a85eb45c283a3533a9ba3fa2d",
            "88a53d8533f44c88885b732b4f550b11",
            "a08c534dbd03465aa771b0e886e786b2",
            "716a5250a1ed4157864718b218784eac",
            "612323c06c0a4e5098f78b203e0196e2",
            "73c5d63019fe487a8c57f2294bd6c791",
            "a12fc1bfdd884ec28b931784a39903c4",
            "b46906536ef6437da95d4c9b191342eb",
            "7b5df2ef9eb64b95923347cec4a04e5a",
            "3f1607411fc54378a6f60e30f146f680"
          ]
        },
        "execution": {
          "iopub.execute_input": "2021-01-13T03:51:16.001184Z",
          "iopub.status.busy": "2021-01-13T03:51:16.000514Z",
          "iopub.status.idle": "2021-01-13T03:51:17.568416Z",
          "shell.execute_reply": "2021-01-13T03:51:17.568875Z"
        },
        "id": "SHRwRoP2nVHX",
        "outputId": "c93e9693-088f-457e-a188-65d1cff417f9"
      },
      "outputs": [
        {
          "output_type": "stream",
          "name": "stdout",
          "text": [
            "\u001b[1mDownloading and preparing dataset 80.23 MiB (download: 80.23 MiB, generated: Unknown size, total: 80.23 MiB) to ~/tensorflow_datasets/imdb_reviews/plain_text/1.0.0...\u001b[0m\n"
          ]
        },
        {
          "output_type": "display_data",
          "data": {
            "text/plain": [
              "Dl Completed...: 0 url [00:00, ? url/s]"
            ],
            "application/vnd.jupyter.widget-view+json": {
              "version_major": 2,
              "version_minor": 0,
              "model_id": "afb06c4d7fc94650a82887af94e377e7"
            }
          },
          "metadata": {}
        },
        {
          "output_type": "display_data",
          "data": {
            "text/plain": [
              "Dl Size...: 0 MiB [00:00, ? MiB/s]"
            ],
            "application/vnd.jupyter.widget-view+json": {
              "version_major": 2,
              "version_minor": 0,
              "model_id": "6d87aa023d384d7ea836cd6e57b3e42a"
            }
          },
          "metadata": {}
        },
        {
          "output_type": "display_data",
          "data": {
            "text/plain": [
              "Generating splits...:   0%|          | 0/3 [00:00<?, ? splits/s]"
            ],
            "application/vnd.jupyter.widget-view+json": {
              "version_major": 2,
              "version_minor": 0,
              "model_id": "7a4e94b018a347dfb7c722cf1925df59"
            }
          },
          "metadata": {}
        },
        {
          "output_type": "display_data",
          "data": {
            "text/plain": [
              "Generating train examples...:   0%|          | 0/25000 [00:00<?, ? examples/s]"
            ],
            "application/vnd.jupyter.widget-view+json": {
              "version_major": 2,
              "version_minor": 0,
              "model_id": "d3f5092add184b63aa96bb4d1c845bbb"
            }
          },
          "metadata": {}
        },
        {
          "output_type": "display_data",
          "data": {
            "text/plain": [
              "Shuffling ~/tensorflow_datasets/imdb_reviews/plain_text/1.0.0.incompleteAPT13Z/imdb_reviews-train.tfrecord*...…"
            ],
            "application/vnd.jupyter.widget-view+json": {
              "version_major": 2,
              "version_minor": 0,
              "model_id": "389526f299b94904b2a18fa307012ab2"
            }
          },
          "metadata": {}
        },
        {
          "output_type": "display_data",
          "data": {
            "text/plain": [
              "Generating test examples...:   0%|          | 0/25000 [00:00<?, ? examples/s]"
            ],
            "application/vnd.jupyter.widget-view+json": {
              "version_major": 2,
              "version_minor": 0,
              "model_id": "49dd455433a045279edbc7a291573649"
            }
          },
          "metadata": {}
        },
        {
          "output_type": "display_data",
          "data": {
            "text/plain": [
              "Shuffling ~/tensorflow_datasets/imdb_reviews/plain_text/1.0.0.incompleteAPT13Z/imdb_reviews-test.tfrecord*...:…"
            ],
            "application/vnd.jupyter.widget-view+json": {
              "version_major": 2,
              "version_minor": 0,
              "model_id": "024896c81c4c4600b04500b9c172fe5d"
            }
          },
          "metadata": {}
        },
        {
          "output_type": "display_data",
          "data": {
            "text/plain": [
              "Generating unsupervised examples...:   0%|          | 0/50000 [00:00<?, ? examples/s]"
            ],
            "application/vnd.jupyter.widget-view+json": {
              "version_major": 2,
              "version_minor": 0,
              "model_id": "a8a62223f159404ab4082adaee0d7057"
            }
          },
          "metadata": {}
        },
        {
          "output_type": "display_data",
          "data": {
            "text/plain": [
              "Shuffling ~/tensorflow_datasets/imdb_reviews/plain_text/1.0.0.incompleteAPT13Z/imdb_reviews-unsupervised.tfrec…"
            ],
            "application/vnd.jupyter.widget-view+json": {
              "version_major": 2,
              "version_minor": 0,
              "model_id": "bf5f6d25552f488e8bc47aed023928f5"
            }
          },
          "metadata": {}
        },
        {
          "output_type": "stream",
          "name": "stdout",
          "text": [
            "\u001b[1mDataset imdb_reviews downloaded and prepared to ~/tensorflow_datasets/imdb_reviews/plain_text/1.0.0. Subsequent calls will reuse this data.\u001b[0m\n"
          ]
        },
        {
          "output_type": "execute_result",
          "data": {
            "text/plain": [
              "(TensorSpec(shape=(), dtype=tf.string, name=None),\n",
              " TensorSpec(shape=(), dtype=tf.int64, name=None))"
            ]
          },
          "metadata": {},
          "execution_count": 6
        }
      ],
      "source": [
        "dataset, info = tfds.load('imdb_reviews', with_info=True,\n",
        "                          as_supervised=True)\n",
        "train_dataset, test_dataset = dataset['train'], dataset['test']\n",
        "\n",
        "train_dataset.element_spec"
      ]
    },
    {
      "cell_type": "markdown",
      "metadata": {
        "id": "nWA4c2ir7g6p"
      },
      "source": [
        "Initially this returns a dataset of (text, label pairs):"
      ]
    },
    {
      "cell_type": "code",
      "execution_count": 7,
      "metadata": {
        "colab": {
          "base_uri": "https://localhost:8080/"
        },
        "execution": {
          "iopub.execute_input": "2021-01-13T03:51:17.574503Z",
          "iopub.status.busy": "2021-01-13T03:51:17.573198Z",
          "iopub.status.idle": "2021-01-13T03:51:17.618857Z",
          "shell.execute_reply": "2021-01-13T03:51:17.619346Z"
        },
        "id": "vd4_BGKyurao",
        "outputId": "03c9c474-505e-49f5-8948-fd4c0a13a138"
      },
      "outputs": [
        {
          "output_type": "stream",
          "name": "stdout",
          "text": [
            "text:  b\"This was an absolutely terrible movie. Don't be lured in by Christopher Walken or Michael Ironside. Both are great actors, but this must simply be their worst role in history. Even their great acting could not redeem this movie's ridiculous storyline. This movie is an early nineties US propaganda piece. The most pathetic scenes were those when the Columbian rebels were making their cases for revolutions. Maria Conchita Alonso appeared phony, and her pseudo-love affair with Walken was nothing but a pathetic emotional plug in a movie that was devoid of any real meaning. I am disappointed that there are movies like this, ruining actor's like Christopher Walken's good name. I could barely sit through it.\"\n",
            "--------------------------------------------------------------------------------------------------------------------------------------------------------------------------------------------------------\n",
            "label:  0\n"
          ]
        }
      ],
      "source": [
        "for example, label in train_dataset.take(1):\n",
        "    print('text: ', example.numpy())\n",
        "    print('--'*100)\n",
        "    print('label: ', label.numpy())"
      ]
    },
    {
      "cell_type": "markdown",
      "metadata": {
        "id": "z2qVJzcEluH_"
      },
      "source": [
        "Next shuffle the data for training and create batches of these `(text, label)` pairs:"
      ]
    },
    {
      "cell_type": "code",
      "execution_count": 8,
      "metadata": {
        "execution": {
          "iopub.execute_input": "2021-01-13T03:51:17.623697Z",
          "iopub.status.busy": "2021-01-13T03:51:17.623008Z",
          "iopub.status.idle": "2021-01-13T03:51:17.624931Z",
          "shell.execute_reply": "2021-01-13T03:51:17.625389Z"
        },
        "id": "dDsCaZCDYZgm"
      },
      "outputs": [],
      "source": [
        "BUFFER_SIZE = 1000\n",
        "BATCH_SIZE = 128"
      ]
    },
    {
      "cell_type": "code",
      "execution_count": 9,
      "metadata": {
        "execution": {
          "iopub.execute_input": "2021-01-13T03:51:17.629810Z",
          "iopub.status.busy": "2021-01-13T03:51:17.629159Z",
          "iopub.status.idle": "2021-01-13T03:51:17.632829Z",
          "shell.execute_reply": "2021-01-13T03:51:17.633249Z"
        },
        "id": "VznrltNOnUc5"
      },
      "outputs": [],
      "source": [
        "train_dataset = train_dataset.shuffle(BUFFER_SIZE).batch(BATCH_SIZE).prefetch(tf.data.AUTOTUNE)\n",
        "test_dataset = test_dataset.batch(BATCH_SIZE).prefetch(tf.data.AUTOTUNE)"
      ]
    },
    {
      "cell_type": "code",
      "execution_count": 10,
      "metadata": {
        "colab": {
          "base_uri": "https://localhost:8080/"
        },
        "execution": {
          "iopub.execute_input": "2021-01-13T03:51:17.638666Z",
          "iopub.status.busy": "2021-01-13T03:51:17.637321Z",
          "iopub.status.idle": "2021-01-13T03:51:17.883181Z",
          "shell.execute_reply": "2021-01-13T03:51:17.883586Z"
        },
        "id": "jqkvdcFv41wC",
        "outputId": "b94a24f2-ded5-4f5a-915f-463d82b859d0"
      },
      "outputs": [
        {
          "output_type": "stream",
          "name": "stdout",
          "text": [
            "texts:  [b\"National Lampoon's Class Reunion is a classic comedy film from the early 80's which combines unique characters, lots of laughs, and some great music from Chuck Berry. When Walter Bailor is absolutely humiliated by his classmates at their high school graduation he seizes the opportunity to get his revenge at his class reunion. One by one he stalks his classmates who include an innocent blind girl, a horny fat guy, the high school beauty, the king of all preps and even the ugly old lunch lady who served up slops to all the kids during highschool. This film has a sort of scary element in it and it has a few brief scenes of sexuality so I wouldn't recommend it for young children but it's a great movie for teens. If you are looking for a movie with a beautiful score, complex characters or killer special effects you might not love Class Reunion. If you want to sit down for 90 minutes and have some great laughs and a lot of fun (and who doesn't) then this movie should be on your movies to see list. ++\"\n",
            " b'For Anthony Mann the Western was \\'legend\\'- and \\'legend\\' makes the very best cinema! Mann\\'s work was full of intensities and passions, visually dramatic, and the action always excitingly photographed...<br /><br />Stewart, a docile actor with the ability of displaying anger, neurosis and cruelty, made with Anthony Mann, five remarkable Westerns: \"Winchester \\'73;\" \" Bend of the River;\" \"The Naked Spur;\" \"The Far Country;\" and \"The Man from Laramie.\"<br /><br />In \"Winchester \\'73,\" Stewart reveals his darker side... He offers all the reserves of anger, inner ambivalence, and emotional complexity in his nature that his audiences had, up till this time, failed to catch...<br /><br />A carefully chosen cast increases the proceedings in fine style: Shelley Winters is at her saucy best; Dan Duryea perfect as the vicious, sneering psychopathic villain; John McIntire great as the unscrupulous character; Charles Drake so good as the man who attempts to face his tormentor; and a very young Rock Hudson, attempts the role of an Indian Chief... <br /><br />\"Winchester \\'73\" is the story of a perfectly crafted and highly prized, rifle in the Dodge City Kansas of 1876... Stewart and his estranged brother, who bears another name (Stephen McNally), compete fiercely for possession of it, and though Stewart wins, McNally steals it and sets off cross-country with Stewart in pursuit... What gives the pursuit an element of the demonic, is Stewart\\'s determination to revenge his father\\'s death at the hands of that same renegade brother\\xc2\\x97a revenge fed by long-standing fratricidal hatred...<br /><br />Photographed in gorgeous Black & White, the film comes on as powerful and arresting, acted with deep feeling and intense concentration, not only by Stewart but by all the supporting characters...<br /><br />Look fast for a promising newcomer, Tony Curtis, the soldier who finds the rifle after the Indian attack...'\n",
            " b\"I desperately want to give this movie a 10...I really do. Some movies, especially horror movies are so budget that they are good. A wise-cracking ninja scarecrow who can implement corn cobs as lethal weaponry...definitely fits this 'budget to brilliance' system. The depth of the movie is definitely its strong point and the twists and turns it implements, keeping the audience at the edge of their seats really drives the creepy...ninja... puberty-stricken... pre-thirty year old student...non-cowboy drawing...wise-cracking...son-of-a-bitch scarecrow into the limelight as the creepiest horror icon of the year. All I can really say is, 'can you dig it' and recommend watching movies such as Frankenfish if you enjoy this sort of hilarious horror.<br /><br />(WHAT THE HELL WERE THEY SMOKING!?'\"]\n",
            "\n",
            "labels:  [1 1 0]\n"
          ]
        }
      ],
      "source": [
        "for example, label in train_dataset.take(1):\n",
        "    print('texts: ', example.numpy()[:3])\n",
        "    print()\n",
        "    print('labels: ', label.numpy()[:3])"
      ]
    },
    {
      "cell_type": "markdown",
      "metadata": {
        "id": "s5eWCo88voPY"
      },
      "source": [
        "## Preprocessing layer"
      ]
    },
    {
      "cell_type": "markdown",
      "metadata": {
        "id": "TFevcItw15P_"
      },
      "source": [
        "The raw text loaded by `tfds` needs to be processed before it can be used in a model. The simplest way to process text for training is using the [`experimental.preprocessing.TextVectorization`](https://www.tensorflow.org/api_docs/python/tf/keras/layers/experimental/preprocessing/TextVectorization) layer. It transforms strings into arrays of word indexes.\n",
        "\n",
        "```python\n",
        "tf.keras.layers.experimental.preprocessing.TextVectorization(\n",
        "    max_tokens=None, standardize=LOWER_AND_STRIP_PUNCTUATION,\n",
        "    split=SPLIT_ON_WHITESPACE, ngrams=None, output_mode=INT,\n",
        "    output_sequence_length=None, pad_to_max_tokens=True, vocabulary=None, **kwargs\n",
        ")\n",
        "```\n",
        "\n",
        "- **output_sequence_length**: If set, the output will have its time dimension padded or truncated to exactly output_sequence_length values, resulting in a tensor of shape `[batch_size, output_sequence_length]`.\n",
        "- **max_tokens**: The maximum size of the vocabulary for this layer\n",
        "- **standardize**: Standardize each sample (usually lowercasing + punctuation stripping)\n",
        "\n",
        "\n",
        "Create the layer, and pass the dataset's text to the layer's `.adapt` method:"
      ]
    },
    {
      "cell_type": "code",
      "execution_count": 11,
      "metadata": {
        "execution": {
          "iopub.execute_input": "2021-01-13T03:51:17.888778Z",
          "iopub.status.busy": "2021-01-13T03:51:17.888113Z",
          "iopub.status.idle": "2021-01-13T03:51:21.858729Z",
          "shell.execute_reply": "2021-01-13T03:51:21.858056Z"
        },
        "id": "uC25Lu1Yvuqy"
      },
      "outputs": [],
      "source": [
        "vocab_size = 500\n",
        "max_sequence_length = None# 100\n",
        "\n",
        "preprocessing = tf.keras.layers.experimental.preprocessing.TextVectorization(\n",
        "    max_tokens=vocab_size, output_sequence_length=max_sequence_length)\n",
        "preprocessing.adapt(train_dataset.map(lambda text, label: text))"
      ]
    },
    {
      "cell_type": "markdown",
      "metadata": {
        "id": "IuQzVBbe3Ldu"
      },
      "source": [
        "The `.adapt` method sets the layer's vocabulary. Here are the first 20 tokens. After the padding and unknown tokens they're sorted by frequency: "
      ]
    },
    {
      "cell_type": "code",
      "execution_count": 12,
      "metadata": {
        "colab": {
          "base_uri": "https://localhost:8080/"
        },
        "execution": {
          "iopub.execute_input": "2021-01-13T03:51:21.863814Z",
          "iopub.status.busy": "2021-01-13T03:51:21.863094Z",
          "iopub.status.idle": "2021-01-13T03:51:21.867751Z",
          "shell.execute_reply": "2021-01-13T03:51:21.868242Z"
        },
        "id": "tBoyjjWg0Ac9",
        "outputId": "d3219f73-5ede-4e2f-f5db-eacd8611ddfd"
      },
      "outputs": [
        {
          "output_type": "execute_result",
          "data": {
            "text/plain": [
              "array(['', '[UNK]', 'the', 'and', 'a', 'of', 'to', 'is', 'in', 'it', 'i',\n",
              "       'this', 'that', 'br', 'was', 'as', 'for', 'with', 'movie', 'but'],\n",
              "      dtype='<U13')"
            ]
          },
          "metadata": {},
          "execution_count": 12
        }
      ],
      "source": [
        "vocab = np.array(preprocessing.get_vocabulary())\n",
        "vocab[:20]"
      ]
    },
    {
      "cell_type": "markdown",
      "metadata": {
        "id": "mjId5pua3jHQ"
      },
      "source": [
        "Once the vocabulary is set, the layer can encode text into indices. The tensors of indices are 0-padded to the longest sequence in the batch (unless you set a fixed `output_sequence_length`):"
      ]
    },
    {
      "cell_type": "code",
      "execution_count": 13,
      "metadata": {
        "colab": {
          "base_uri": "https://localhost:8080/"
        },
        "id": "wbrH5N7Fza1y",
        "outputId": "f120e070-edf2-4d50-8fbb-07918891b9af"
      },
      "outputs": [
        {
          "output_type": "stream",
          "name": "stdout",
          "text": [
            "{'': 0, '[UNK]': 1, 'the': 2, 'and': 3, 'a': 4, 'of': 5, 'to': 6, 'is': 7, 'in': 8, 'it': 9, 'i': 10, 'this': 11, 'that': 12, 'br': 13, 'was': 14, 'as': 15, 'for': 16, 'with': 17, 'movie': 18, 'but': 19, 'film': 20, 'on': 21, 'not': 22, 'you': 23, 'are': 24, 'his': 25, 'have': 26, 'he': 27, 'be': 28, 'one': 29, 'its': 30, 'at': 31, 'all': 32, 'by': 33, 'an': 34, 'they': 35, 'from': 36, 'who': 37, 'so': 38, 'like': 39, 'her': 40, 'just': 41, 'or': 42, 'about': 43, 'has': 44, 'if': 45, 'out': 46, 'some': 47, 'there': 48, 'what': 49, 'good': 50, 'when': 51, 'more': 52, 'very': 53, 'even': 54, 'she': 55, 'my': 56, 'no': 57, 'up': 58, 'would': 59, 'which': 60, 'only': 61, 'time': 62, 'really': 63, 'story': 64, 'their': 65, 'were': 66, 'had': 67, 'see': 68, 'can': 69, 'me': 70, 'than': 71, 'we': 72, 'much': 73, 'well': 74, 'been': 75, 'get': 76, 'will': 77, 'into': 78, 'also': 79, 'because': 80, 'other': 81, 'do': 82, 'people': 83, 'bad': 84, 'great': 85, 'first': 86, 'how': 87, 'most': 88, 'him': 89, 'dont': 90, 'made': 91, 'then': 92, 'movies': 93, 'make': 94, 'films': 95, 'could': 96, 'way': 97, 'them': 98, 'any': 99, 'too': 100, 'after': 101, 'characters': 102, 'think': 103, 'watch': 104, 'two': 105, 'many': 106, 'being': 107, 'seen': 108, 'character': 109, 'never': 110, 'little': 111, 'acting': 112, 'where': 113, 'plot': 114, 'best': 115, 'love': 116, 'did': 117, 'know': 118, 'life': 119, 'show': 120, 'does': 121, 'ever': 122, 'your': 123, 'still': 124, 'better': 125, 'over': 126, 'off': 127, 'these': 128, 'end': 129, 'say': 130, 'while': 131, 'here': 132, 'man': 133, 'why': 134, 'scene': 135, 'such': 136, 'scenes': 137, 'go': 138, 'should': 139, 'something': 140, 'through': 141, 'im': 142, 'back': 143, 'those': 144, 'doesnt': 145, 'real': 146, 'watching': 147, 'years': 148, 'though': 149, 'now': 150, 'thing': 151, 'actors': 152, 'didnt': 153, 'another': 154, 'new': 155, 'before': 156, 'actually': 157, 'nothing': 158, 'makes': 159, 'find': 160, 'work': 161, 'funny': 162, 'look': 163, 'few': 164, 'old': 165, 'going': 166, 'same': 167, 'every': 168, 'lot': 169, 'us': 170, 'part': 171, 'director': 172, 'again': 173, 'thats': 174, 'cant': 175, 'quite': 176, 'cast': 177, 'want': 178, 'pretty': 179, 'things': 180, 'seems': 181, 'young': 182, 'got': 183, 'around': 184, 'fact': 185, 'however': 186, 'down': 187, 'world': 188, 'take': 189, 'enough': 190, 'both': 191, 'give': 192, 'between': 193, 'may': 194, 'ive': 195, 'big': 196, 'horror': 197, 'original': 198, 'thought': 199, 'own': 200, 'without': 201, 'gets': 202, 'always': 203, 'series': 204, 'right': 205, 'long': 206, 'isnt': 207, 'saw': 208, 'come': 209, 'almost': 210, 'times': 211, 'least': 212, 'theres': 213, 'role': 214, 'point': 215, 'action': 216, 'must': 217, 'interesting': 218, 'whole': 219, 'comedy': 220, 'bit': 221, 'family': 222, 'music': 223, 'done': 224, 'script': 225, 'last': 226, 'might': 227, 'hes': 228, 'anything': 229, 'guy': 230, 'since': 231, 'feel': 232, 'minutes': 233, 'far': 234, 'probably': 235, 'performance': 236, 'am': 237, 'kind': 238, 'rather': 239, 'worst': 240, 'yet': 241, 'away': 242, 'sure': 243, 'tv': 244, 'making': 245, 'woman': 246, 'girl': 247, 'each': 248, 'found': 249, 'fun': 250, 'played': 251, 'having': 252, 'anyone': 253, 'our': 254, 'although': 255, 'believe': 256, 'comes': 257, 'trying': 258, 'course': 259, 'especially': 260, 'goes': 261, 'day': 262, 'looks': 263, 'hard': 264, 'shows': 265, 'put': 266, 'different': 267, 'wasnt': 268, 'place': 269, 'maybe': 270, 'book': 271, 'once': 272, 'set': 273, 'main': 274, 'reason': 275, 'money': 276, 'worth': 277, 'sense': 278, 'everything': 279, 'looking': 280, 'true': 281, 'ending': 282, 'someone': 283, 'watched': 284, 'plays': 285, 'job': 286, '2': 287, 'actor': 288, 'seem': 289, 'three': 290, 'said': 291, 'takes': 292, 'screen': 293, 'dvd': 294, 'together': 295, 'play': 296, 'instead': 297, 'john': 298, 'during': 299, 'beautiful': 300, 'later': 301, '10': 302, 'effects': 303, 'himself': 304, 'everyone': 305, 'version': 306, 'left': 307, 'seeing': 308, 'special': 309, 'audience': 310, 'night': 311, 'excellent': 312, 'house': 313, 'american': 314, 'idea': 315, 'simply': 316, 'nice': 317, 'wife': 318, 'shot': 319, 'youre': 320, 'read': 321, 'high': 322, 'black': 323, 'less': 324, 'completely': 325, 'second': 326, 'kids': 327, 'help': 328, 'else': 329, 'poor': 330, 'fan': 331, 'war': 332, 'star': 333, 'used': 334, 'given': 335, 'year': 336, 'try': 337, 'father': 338, 'death': 339, 'friends': 340, 'need': 341, 'use': 342, 'rest': 343, 'enjoy': 344, 'home': 345, 'men': 346, 'performances': 347, 'short': 348, 'mind': 349, 'classic': 350, 'until': 351, 'either': 352, 'truly': 353, 'along': 354, 'hollywood': 355, 'boring': 356, 'half': 357, 'dead': 358, 'wrong': 359, 'tell': 360, 'production': 361, 'women': 362, 'line': 363, 'remember': 364, 'couple': 365, 'came': 366, 'next': 367, 'recommend': 368, 'start': 369, 'perhaps': 370, 'full': 371, 'let': 372, 'understand': 373, 'wonderful': 374, 'stupid': 375, 'getting': 376, 'others': 377, 'mean': 378, 'moments': 379, 'playing': 380, 'awful': 381, 'keep': 382, 'episode': 383, 'terrible': 384, 'camera': 385, 'small': 386, 'definitely': 387, 'gives': 388, 'often': 389, 'stars': 390, 'doing': 391, 'sex': 392, 'video': 393, 'early': 394, 'perfect': 395, 'become': 396, 'finally': 397, 'name': 398, 'felt': 399, 'school': 400, 'human': 401, 'supposed': 402, 'face': 403, 'couldnt': 404, 'liked': 405, 'lines': 406, 'dialogue': 407, 'piece': 408, 'person': 409, 'itself': 410, 'lost': 411, 'absolutely': 412, 'top': 413, 'yes': 414, 'case': 415, 'against': 416, 'entire': 417, 'went': 418, 'certainly': 419, 'written': 420, 'live': 421, 'title': 422, 'waste': 423, 'shes': 424, 'sort': 425, 'head': 426, 'budget': 427, 'hope': 428, 'problem': 429, 'style': 430, 'several': 431, 'overall': 432, 'picture': 433, 'loved': 434, 'evil': 435, 'mr': 436, 'worse': 437, 'id': 438, 'fans': 439, 'becomes': 440, 'entertaining': 441, '3': 442, 'cinema': 443, 'boy': 444, 'beginning': 445, 'seemed': 446, 'white': 447, 'based': 448, 'already': 449, 'despite': 450, 'care': 451, 'oh': 452, 'wanted': 453, 'example': 454, 'dark': 455, '\\x96': 456, 'lives': 457, 'guys': 458, 'unfortunately': 459, 'killer': 460, 'throughout': 461, 'mother': 462, 'direction': 463, 'final': 464, 'friend': 465, 'turn': 466, 'totally': 467, 'fine': 468, 'wont': 469, '1': 470, 'wants': 471, 'children': 472, 'amazing': 473, 'sound': 474, 'laugh': 475, 'girls': 476, 'drama': 477, 'youll': 478, 'guess': 479, 'lead': 480, 'tries': 481, 'low': 482, 'called': 483, 'humor': 484, 'writing': 485, 'under': 486, 'michael': 487, 'works': 488, 'history': 489, 'turns': 490, 'able': 491, 'enjoyed': 492, 'theyre': 493, 'behind': 494, 'past': 495, 'quality': 496, 'days': 497, 'gave': 498, 'favorite': 499}\n"
          ]
        }
      ],
      "source": [
        "voc = preprocessing.get_vocabulary()\n",
        "word_index = dict(zip(voc, range(len(voc))))\n",
        "print(word_index)\n"
      ]
    },
    {
      "cell_type": "code",
      "source": [
        "text = 'the film is good asfadf'\n",
        "[word_index.get(w, 1) for w in text.split()]"
      ],
      "metadata": {
        "colab": {
          "base_uri": "https://localhost:8080/"
        },
        "id": "1wJKQLV7qWbr",
        "outputId": "cf1111d5-b61a-4a36-c186-a97a5f284814"
      },
      "execution_count": 14,
      "outputs": [
        {
          "output_type": "execute_result",
          "data": {
            "text/plain": [
              "[2, 20, 7, 50, 1]"
            ]
          },
          "metadata": {},
          "execution_count": 14
        }
      ]
    },
    {
      "cell_type": "markdown",
      "metadata": {
        "id": "wGmM4da1za1y"
      },
      "source": [
        "### Embedding layer\n",
        "\n",
        "\n",
        "```python\n",
        "tf.keras.layers.Embedding(\n",
        "    input_dim,\n",
        "    output_dim,\n",
        "    input_length=None,\n",
        "    mask_zero=False,\n",
        ")\n",
        "```\n",
        "\n",
        "- **input_dim**: Integer. Size of the vocabulary, i.e. maximum integer index + 1.\n",
        "- **output_dim**: Integer. Dimension of the dense embedding.\n",
        "- **input_length**: Length of input sequences, when it is constant.\n",
        "\n",
        "\n",
        "This layer can only be used as the first layer in a model:\n",
        "\n",
        "```python\n",
        "model = tf.keras.Sequential()\n",
        "model.add(tf.keras.layers.Embedding(input_dim=1000, output_dim=64, input_length=10))\n",
        "...\n",
        "```"
      ]
    },
    {
      "cell_type": "code",
      "execution_count": 15,
      "metadata": {
        "id": "uq31fcJyn0qU"
      },
      "outputs": [],
      "source": [
        "embedding_layer = tf.keras.layers.Embedding(input_dim=vocab_size, output_dim=10, input_length=None)"
      ]
    },
    {
      "cell_type": "code",
      "execution_count": 16,
      "metadata": {
        "id": "IdoAvORfn0qV",
        "outputId": "675c988c-3b41-4ff0-ec9b-02770c15d470",
        "colab": {
          "base_uri": "https://localhost:8080/"
        }
      },
      "outputs": [
        {
          "output_type": "stream",
          "name": "stdout",
          "text": [
            "(1, 10)\n",
            "Embedding of entity with index 0:  [ 0.04349451  0.03443411 -0.04145385 -0.0148505   0.02207572 -0.02361475\n",
            "  0.04372479  0.02366915  0.02723478 -0.033664  ]\n"
          ]
        }
      ],
      "source": [
        "vector_ind_0 = embedding_layer(tf.constant([0]))\n",
        "print(vector_ind_0.shape)\n",
        "print('Embedding of entity with index 0: ', vector_ind_0.numpy().flatten())\n"
      ]
    },
    {
      "cell_type": "markdown",
      "metadata": {
        "id": "bjUqGVBxGw-t"
      },
      "source": [
        "## Create the model"
      ]
    },
    {
      "cell_type": "markdown",
      "metadata": {
        "id": "XAnutC5_za1z"
      },
      "source": [
        "The embedding layer [uses masking](https://www.tensorflow.org/guide/keras/masking_and_padding) to handle the varying sequence-lengths. Configure the embedding layer with `mask_zero=True`.\n"
      ]
    },
    {
      "cell_type": "code",
      "execution_count": 17,
      "metadata": {
        "id": "W7zsmInBOCPO"
      },
      "outputs": [],
      "source": [
        "vocab_size = 800\n",
        "max_sequence_length = None #120 \n",
        "embedding_size = 32\n",
        "\n",
        "\n",
        "preprocessing = tf.keras.layers.experimental.preprocessing.TextVectorization(\n",
        "    max_tokens=vocab_size, output_sequence_length=max_sequence_length)\n",
        "preprocessing.adapt(train_dataset.map(lambda text, label: text))\n",
        "\n",
        "\n",
        "model = tf.keras.Sequential()\n",
        "model.add(preprocessing)\n",
        "model.add(tf.keras.layers.Embedding(\n",
        "        input_dim=len(preprocessing.get_vocabulary()),\n",
        "        output_dim=embedding_size,\n",
        "        # Use masking to handle the variable sequence lengths\n",
        "        mask_zero=True))\n",
        "model.add(tf.keras.layers.GRU(32))\n",
        "model.add(tf.keras.layers.Dense(1, activation='sigmoid'))"
      ]
    },
    {
      "cell_type": "markdown",
      "metadata": {
        "id": "sRI776ZcH3Tf"
      },
      "source": [
        "Compile the Keras model to configure the training process:"
      ]
    },
    {
      "cell_type": "code",
      "execution_count": null,
      "metadata": {
        "colab": {
          "base_uri": "https://localhost:8080/"
        },
        "execution": {
          "iopub.execute_input": "2021-01-13T03:51:29.543266Z",
          "iopub.status.busy": "2021-01-13T03:51:29.542210Z",
          "iopub.status.idle": "2021-01-13T03:51:29.554230Z",
          "shell.execute_reply": "2021-01-13T03:51:29.554650Z"
        },
        "id": "kj2xei41YZjC",
        "outputId": "4e890780-525e-432a-fbff-32c028876b08"
      },
      "outputs": [
        {
          "output_type": "stream",
          "name": "stdout",
          "text": [
            "Epoch 1/5\n",
            "196/196 [==============================] - 24s 50ms/step - loss: 0.5521 - accuracy: 0.7023 - val_loss: 0.4231 - val_accuracy: 0.8203\n",
            "Epoch 2/5\n",
            "196/196 [==============================] - 8s 43ms/step - loss: 0.3837 - accuracy: 0.8353 - val_loss: 0.4001 - val_accuracy: 0.8172\n",
            "Epoch 3/5\n",
            "196/196 [==============================] - 9s 44ms/step - loss: 0.3508 - accuracy: 0.8535 - val_loss: 0.3888 - val_accuracy: 0.8281\n",
            "Epoch 4/5\n",
            "196/196 [==============================] - 9s 47ms/step - loss: 0.3495 - accuracy: 0.8542 - val_loss: 0.3879 - val_accuracy: 0.8406\n",
            "Epoch 5/5\n",
            " 97/196 [=============>................] - ETA: 4s - loss: 0.3374 - accuracy: 0.8578"
          ]
        }
      ],
      "source": [
        "model.compile(loss='BinaryCrossentropy',\n",
        "              optimizer='adam',\n",
        "              metrics=['accuracy'])\n",
        "history = model.fit(train_dataset, epochs=5,\n",
        "                    validation_data=test_dataset, \n",
        "                    validation_steps=5)"
      ]
    },
    {
      "cell_type": "code",
      "execution_count": null,
      "metadata": {
        "execution": {
          "iopub.execute_input": "2021-01-13T03:57:17.842766Z",
          "iopub.status.busy": "2021-01-13T03:57:17.841687Z",
          "iopub.status.idle": "2021-01-13T03:57:34.265776Z",
          "shell.execute_reply": "2021-01-13T03:57:34.265216Z"
        },
        "id": "BaNbXi43YgUT"
      },
      "outputs": [],
      "source": [
        "# Get the results \n",
        "\n",
        "results = model.evaluate(test_dataset)\n",
        "\n",
        "print('Test Loss: {}'.format(results[0]))\n",
        "print('Test Accuracy: {}'.format(results[1])) # We get a score of 0.85 "
      ]
    },
    {
      "cell_type": "code",
      "execution_count": null,
      "metadata": {
        "execution": {
          "iopub.execute_input": "2021-01-13T03:57:34.284326Z",
          "iopub.status.busy": "2021-01-13T03:57:34.283544Z",
          "iopub.status.idle": "2021-01-13T03:57:34.574582Z",
          "shell.execute_reply": "2021-01-13T03:57:34.575021Z"
        },
        "id": "OZmwt_mzaQJk"
      },
      "outputs": [],
      "source": [
        "# Plot the results\n",
        "\n",
        "def show_loss_accuracy_evolution(history):\n",
        "    \n",
        "    hist = pd.DataFrame(history.history)\n",
        "    hist['epoch'] = history.epoch\n",
        "\n",
        "    fig, (ax1, ax2) = plt.subplots(1, 2, figsize=(16, 6))\n",
        "\n",
        "    ax1.set_xlabel('Epoch')\n",
        "    ax1.set_ylabel('Sparse Categorical Crossentropy')\n",
        "    ax1.plot(hist['epoch'], hist['loss'], label='Train Error')\n",
        "    ax1.plot(hist['epoch'], hist['val_loss'], label = 'Val Error')\n",
        "    ax1.grid()\n",
        "    ax1.legend()\n",
        "\n",
        "    ax2.set_xlabel('Epoch')\n",
        "    ax2.set_ylabel('Accuracy')\n",
        "    ax2.plot(hist['epoch'], hist['accuracy'], label='Train Accuracy')\n",
        "    ax2.plot(hist['epoch'], hist['val_accuracy'], label = 'Val Accuracy')\n",
        "    ax2.grid()\n",
        "    ax2.legend()\n",
        "\n",
        "    plt.show()\n",
        "\n",
        "show_loss_accuracy_evolution(history)"
      ]
    },
    {
      "cell_type": "markdown",
      "metadata": {
        "id": "DwSE_386uhxD"
      },
      "source": [
        "Run a prediction on a new sentence:\n",
        "\n",
        "If the prediction is >= 0.5, it is positive else it is negative."
      ]
    },
    {
      "cell_type": "code",
      "execution_count": null,
      "metadata": {
        "execution": {
          "iopub.execute_input": "2021-01-13T03:57:34.579884Z",
          "iopub.status.busy": "2021-01-13T03:57:34.579199Z",
          "iopub.status.idle": "2021-01-13T03:57:36.666160Z",
          "shell.execute_reply": "2021-01-13T03:57:36.665530Z"
        },
        "id": "ZXgfQSgRW6zU"
      },
      "outputs": [],
      "source": [
        "# Example\n",
        "reviews = ['the film was really bad and i am very disappointed',\n",
        "           'The film was very funny entertaining and good we had a great time . brilliant film',\n",
        "           'this film was just brilliant',\n",
        "          'This movie has been a disaster',\n",
        "           'the movie is not bad']\n",
        "predictions = model.predict(np.array(reviews))\n",
        "\n",
        "for review, pred in zip(reviews, predictions.flatten()):\n",
        "    print()\n",
        "    print(review)\n",
        "    print('Sentiment: ', np.round(pred, 2))"
      ]
    },
    {
      "cell_type": "markdown",
      "source": [
        "We can see that the model still have problems detecting the sentiment."
      ],
      "metadata": {
        "id": "4c5__qBX7Gjt"
      }
    },
    {
      "cell_type": "markdown",
      "metadata": {
        "id": "Y3dKjEfxza11"
      },
      "source": [
        "##Improving the model results\n",
        "By changing the  `vocab_size`, `max_sequence_length` and embedding dimension too compare the results"
      ]
    },
    {
      "cell_type": "code",
      "execution_count": null,
      "metadata": {
        "id": "2afzL1_Pza11"
      },
      "outputs": [],
      "source": [
        "vocab_size = 4000 # Number of words\n",
        "max_sequence_length = max_sequence_length  # Max length of a sentence \n",
        "embedding_size = 120## embedding dimension"
      ]
    },
    {
      "cell_type": "code",
      "execution_count": null,
      "metadata": {
        "id": "TClSc-vqza11"
      },
      "outputs": [],
      "source": [
        "preprocessing = tf.keras.layers.experimental.preprocessing.TextVectorization(\n",
        "    max_tokens=vocab_size, output_sequence_length=max_sequence_length)\n",
        "preprocessing.adapt(train_dataset.map(lambda text, label: text))\n",
        "\n",
        "model = tf.keras.Sequential()\n",
        "\n",
        "model.add(preprocessing)\n",
        "\n",
        "model.add(tf.keras.layers.Embedding(\n",
        "        input_dim=len(preprocessing.get_vocabulary()),\n",
        "        output_dim=embedding_size,mask_zero=True))\n",
        "\n",
        "model.add(tf.keras.layers.GRU(128))\n",
        "model.add(layers.Dropout(0.3))\n",
        "\n",
        "model.add(tf.keras.layers.Dense(1, activation='sigmoid'))"
      ]
    },
    {
      "cell_type": "code",
      "execution_count": null,
      "metadata": {
        "id": "rGr66Ofrza11"
      },
      "outputs": [],
      "source": [
        "model.compile(loss='BinaryCrossentropy',\n",
        "              optimizer='adam',\n",
        "              metrics=['accuracy'])\n",
        "history = model.fit(train_dataset, epochs=5,\n",
        "                    validation_data=test_dataset, \n",
        "                    validation_steps=5)\n",
        "show_loss_accuracy_evolution(history)\n",
        "\n",
        "results = model.evaluate(test_dataset)\n",
        "\n",
        "print('Test Loss: {}'.format(results[0]))\n",
        "print('Test Accuracy: {}'.format(results[1]))"
      ]
    },
    {
      "cell_type": "code",
      "execution_count": null,
      "metadata": {
        "id": "o2USmk_2za12"
      },
      "outputs": [],
      "source": [
        "reviews = ['the film was really bad and i am very disappointed',\n",
        "           'The film was very funny entertaining and good we had a great time . brilliant film',\n",
        "           'this film was just brilliant',\n",
        "          'This movie has been a disaster', 'the movie is not to bad']\n",
        "predictions = model.predict(np.array(reviews))\n",
        "\n",
        "for review, pred in zip(reviews, predictions.flatten()):\n",
        "    print()\n",
        "    print(review)\n",
        "    print('Sentiment: ', np.round(pred, 2))"
      ]
    },
    {
      "cell_type": "markdown",
      "metadata": {
        "id": "oNGpTev1za12"
      },
      "source": [
        "## Generalization\n",
        "\n",
        "We are going to see, how the trained model generalizes in a new dataset.\n",
        "\n",
        "Large Yelp Review Dataset. This is a dataset for binary sentiment classification. We provide a set of 560,000 highly polar yelp reviews for training, and 38,000 for testing. ORIGIN The Yelp reviews dataset consists of reviews from Yelp. It is extracted from the Yelp Dataset Challenge 2015 data. For more information, please refer to http://www.yelp.com/dataset\n",
        "\n"
      ]
    },
    {
      "cell_type": "code",
      "execution_count": null,
      "metadata": {
        "execution": {
          "iopub.execute_input": "2021-01-13T03:51:16.001184Z",
          "iopub.status.busy": "2021-01-13T03:51:16.000514Z",
          "iopub.status.idle": "2021-01-13T03:51:17.568416Z",
          "shell.execute_reply": "2021-01-13T03:51:17.568875Z"
        },
        "id": "z9D12Vexza13"
      },
      "outputs": [],
      "source": [
        "dataset_yelp, info = tfds.load('yelp_polarity_reviews', with_info=True,\n",
        "                          as_supervised=True)\n",
        "train_dataset_yelp, test_dataset_yelp = dataset_yelp['train'], dataset_yelp['test']\n",
        "\n",
        "train_dataset_yelp.element_spec"
      ]
    },
    {
      "cell_type": "markdown",
      "metadata": {
        "id": "8iJCsaP3za13"
      },
      "source": [
        "Initially this returns a dataset of (text, label pairs):"
      ]
    },
    {
      "cell_type": "code",
      "execution_count": null,
      "metadata": {
        "execution": {
          "iopub.execute_input": "2021-01-13T03:51:17.574503Z",
          "iopub.status.busy": "2021-01-13T03:51:17.573198Z",
          "iopub.status.idle": "2021-01-13T03:51:17.618857Z",
          "shell.execute_reply": "2021-01-13T03:51:17.619346Z"
        },
        "id": "vvGplW2qza13"
      },
      "outputs": [],
      "source": [
        "for example, label in test_dataset_yelp.take(2):\n",
        "    print('text: ', example.numpy())\n",
        "    print('label: ', label.numpy())"
      ]
    },
    {
      "cell_type": "markdown",
      "metadata": {
        "id": "6R3LG29-za13"
      },
      "source": [
        "Next shuffle the data for training and create batches of these `(text, label)` pairs:"
      ]
    },
    {
      "cell_type": "code",
      "execution_count": null,
      "metadata": {
        "execution": {
          "iopub.execute_input": "2021-01-13T03:51:17.623697Z",
          "iopub.status.busy": "2021-01-13T03:51:17.623008Z",
          "iopub.status.idle": "2021-01-13T03:51:17.624931Z",
          "shell.execute_reply": "2021-01-13T03:51:17.625389Z"
        },
        "id": "Pof5it9sza14"
      },
      "outputs": [],
      "source": [
        "BUFFER_SIZE = 10000\n",
        "BATCH_SIZE = 512\n",
        "train_dataset_yelp = train_dataset_yelp.shuffle(BUFFER_SIZE).batch(BATCH_SIZE).prefetch(tf.data.AUTOTUNE)\n",
        "test_dataset_yelp = test_dataset_yelp.batch(BATCH_SIZE).prefetch(tf.data.AUTOTUNE)"
      ]
    },
    {
      "cell_type": "code",
      "execution_count": null,
      "metadata": {
        "execution": {
          "iopub.execute_input": "2021-01-13T03:51:17.629810Z",
          "iopub.status.busy": "2021-01-13T03:51:17.629159Z",
          "iopub.status.idle": "2021-01-13T03:51:17.632829Z",
          "shell.execute_reply": "2021-01-13T03:51:17.633249Z"
        },
        "id": "sXxqMK-yza14"
      },
      "outputs": [],
      "source": [
        "for example, label in test_dataset_yelp.take(1):\n",
        "    print('text: ', example.numpy()[0])\n",
        "    print('label: ', label.numpy()[0])"
      ]
    },
    {
      "cell_type": "markdown",
      "metadata": {
        "id": "jhVGFOnnQ8t2"
      },
      "source": [
        "### Generalization of the IMBD-model --> Yelp Dataset"
      ]
    },
    {
      "cell_type": "code",
      "execution_count": null,
      "metadata": {
        "execution": {
          "iopub.execute_input": "2021-01-13T03:51:17.638666Z",
          "iopub.status.busy": "2021-01-13T03:51:17.637321Z",
          "iopub.status.idle": "2021-01-13T03:51:17.883181Z",
          "shell.execute_reply": "2021-01-13T03:51:17.883586Z"
        },
        "id": "SpB9hZIgza14"
      },
      "outputs": [],
      "source": [
        "results = model.evaluate(test_dataset_yelp)\n",
        "\n",
        "print('Test Loss: {}'.format(results[0]))\n",
        "print('Test Accuracy: {}'.format(results[1]))"
      ]
    },
    {
      "cell_type": "markdown",
      "source": [
        "We could se that the model generalise well, we get an Accuracy of 0.8."
      ],
      "metadata": {
        "id": "2CGVGTSC7WsO"
      }
    }
  ],
  "metadata": {
    "accelerator": "GPU",
    "colab": {
      "provenance": [],
      "collapsed_sections": []
    },
    "kernelspec": {
      "display_name": "Python 3",
      "language": "python",
      "name": "python3"
    },
    "language_info": {
      "codemirror_mode": {
        "name": "ipython",
        "version": 3
      },
      "file_extension": ".py",
      "mimetype": "text/x-python",
      "name": "python",
      "nbconvert_exporter": "python",
      "pygments_lexer": "ipython3",
      "version": "3.8.8"
    },
    "latex_envs": {
      "LaTeX_envs_menu_present": true,
      "autoclose": false,
      "autocomplete": true,
      "bibliofile": "biblio.bib",
      "cite_by": "apalike",
      "current_citInitial": 1,
      "eqLabelWithNumbers": true,
      "eqNumInitial": 1,
      "hotkeys": {
        "equation": "Ctrl-E",
        "itemize": "Ctrl-I"
      },
      "labels_anchors": false,
      "latex_user_defs": false,
      "report_style_numbering": false,
      "user_envs_cfg": false
    },
    "gpuClass": "standard",
    "widgets": {
      "application/vnd.jupyter.widget-state+json": {
        "afb06c4d7fc94650a82887af94e377e7": {
          "model_module": "@jupyter-widgets/controls",
          "model_name": "HBoxModel",
          "model_module_version": "1.5.0",
          "state": {
            "_dom_classes": [],
            "_model_module": "@jupyter-widgets/controls",
            "_model_module_version": "1.5.0",
            "_model_name": "HBoxModel",
            "_view_count": null,
            "_view_module": "@jupyter-widgets/controls",
            "_view_module_version": "1.5.0",
            "_view_name": "HBoxView",
            "box_style": "",
            "children": [
              "IPY_MODEL_bfe9f539039844a48c254b514dce9628",
              "IPY_MODEL_06634c8a0dc444b6931e8dc401d595b1",
              "IPY_MODEL_f41e0973d5e04193bfb6c863a28f2644"
            ],
            "layout": "IPY_MODEL_a86f20feb60544ce830bab925d64ae2a"
          }
        },
        "bfe9f539039844a48c254b514dce9628": {
          "model_module": "@jupyter-widgets/controls",
          "model_name": "HTMLModel",
          "model_module_version": "1.5.0",
          "state": {
            "_dom_classes": [],
            "_model_module": "@jupyter-widgets/controls",
            "_model_module_version": "1.5.0",
            "_model_name": "HTMLModel",
            "_view_count": null,
            "_view_module": "@jupyter-widgets/controls",
            "_view_module_version": "1.5.0",
            "_view_name": "HTMLView",
            "description": "",
            "description_tooltip": null,
            "layout": "IPY_MODEL_27df3a88630b4ec8b1edae7eeb3611cd",
            "placeholder": "​",
            "style": "IPY_MODEL_411a1fa6b59f4658a930da278bcd0e33",
            "value": "Dl Completed...: 100%"
          }
        },
        "06634c8a0dc444b6931e8dc401d595b1": {
          "model_module": "@jupyter-widgets/controls",
          "model_name": "FloatProgressModel",
          "model_module_version": "1.5.0",
          "state": {
            "_dom_classes": [],
            "_model_module": "@jupyter-widgets/controls",
            "_model_module_version": "1.5.0",
            "_model_name": "FloatProgressModel",
            "_view_count": null,
            "_view_module": "@jupyter-widgets/controls",
            "_view_module_version": "1.5.0",
            "_view_name": "ProgressView",
            "bar_style": "success",
            "description": "",
            "description_tooltip": null,
            "layout": "IPY_MODEL_065c295b9c6948658ababc2e4faa9b22",
            "max": 1,
            "min": 0,
            "orientation": "horizontal",
            "style": "IPY_MODEL_3d4df050d7fa451498bd13ee878d30a9",
            "value": 1
          }
        },
        "f41e0973d5e04193bfb6c863a28f2644": {
          "model_module": "@jupyter-widgets/controls",
          "model_name": "HTMLModel",
          "model_module_version": "1.5.0",
          "state": {
            "_dom_classes": [],
            "_model_module": "@jupyter-widgets/controls",
            "_model_module_version": "1.5.0",
            "_model_name": "HTMLModel",
            "_view_count": null,
            "_view_module": "@jupyter-widgets/controls",
            "_view_module_version": "1.5.0",
            "_view_name": "HTMLView",
            "description": "",
            "description_tooltip": null,
            "layout": "IPY_MODEL_bd76b59b926e4362a7fb07c7d1c40095",
            "placeholder": "​",
            "style": "IPY_MODEL_0983b510653c4c11b2ea0f456fae4edf",
            "value": " 1/1 [00:00&lt;00:00,  8.97 url/s]"
          }
        },
        "a86f20feb60544ce830bab925d64ae2a": {
          "model_module": "@jupyter-widgets/base",
          "model_name": "LayoutModel",
          "model_module_version": "1.2.0",
          "state": {
            "_model_module": "@jupyter-widgets/base",
            "_model_module_version": "1.2.0",
            "_model_name": "LayoutModel",
            "_view_count": null,
            "_view_module": "@jupyter-widgets/base",
            "_view_module_version": "1.2.0",
            "_view_name": "LayoutView",
            "align_content": null,
            "align_items": null,
            "align_self": null,
            "border": null,
            "bottom": null,
            "display": null,
            "flex": null,
            "flex_flow": null,
            "grid_area": null,
            "grid_auto_columns": null,
            "grid_auto_flow": null,
            "grid_auto_rows": null,
            "grid_column": null,
            "grid_gap": null,
            "grid_row": null,
            "grid_template_areas": null,
            "grid_template_columns": null,
            "grid_template_rows": null,
            "height": null,
            "justify_content": null,
            "justify_items": null,
            "left": null,
            "margin": null,
            "max_height": null,
            "max_width": null,
            "min_height": null,
            "min_width": null,
            "object_fit": null,
            "object_position": null,
            "order": null,
            "overflow": null,
            "overflow_x": null,
            "overflow_y": null,
            "padding": null,
            "right": null,
            "top": null,
            "visibility": null,
            "width": null
          }
        },
        "27df3a88630b4ec8b1edae7eeb3611cd": {
          "model_module": "@jupyter-widgets/base",
          "model_name": "LayoutModel",
          "model_module_version": "1.2.0",
          "state": {
            "_model_module": "@jupyter-widgets/base",
            "_model_module_version": "1.2.0",
            "_model_name": "LayoutModel",
            "_view_count": null,
            "_view_module": "@jupyter-widgets/base",
            "_view_module_version": "1.2.0",
            "_view_name": "LayoutView",
            "align_content": null,
            "align_items": null,
            "align_self": null,
            "border": null,
            "bottom": null,
            "display": null,
            "flex": null,
            "flex_flow": null,
            "grid_area": null,
            "grid_auto_columns": null,
            "grid_auto_flow": null,
            "grid_auto_rows": null,
            "grid_column": null,
            "grid_gap": null,
            "grid_row": null,
            "grid_template_areas": null,
            "grid_template_columns": null,
            "grid_template_rows": null,
            "height": null,
            "justify_content": null,
            "justify_items": null,
            "left": null,
            "margin": null,
            "max_height": null,
            "max_width": null,
            "min_height": null,
            "min_width": null,
            "object_fit": null,
            "object_position": null,
            "order": null,
            "overflow": null,
            "overflow_x": null,
            "overflow_y": null,
            "padding": null,
            "right": null,
            "top": null,
            "visibility": null,
            "width": null
          }
        },
        "411a1fa6b59f4658a930da278bcd0e33": {
          "model_module": "@jupyter-widgets/controls",
          "model_name": "DescriptionStyleModel",
          "model_module_version": "1.5.0",
          "state": {
            "_model_module": "@jupyter-widgets/controls",
            "_model_module_version": "1.5.0",
            "_model_name": "DescriptionStyleModel",
            "_view_count": null,
            "_view_module": "@jupyter-widgets/base",
            "_view_module_version": "1.2.0",
            "_view_name": "StyleView",
            "description_width": ""
          }
        },
        "065c295b9c6948658ababc2e4faa9b22": {
          "model_module": "@jupyter-widgets/base",
          "model_name": "LayoutModel",
          "model_module_version": "1.2.0",
          "state": {
            "_model_module": "@jupyter-widgets/base",
            "_model_module_version": "1.2.0",
            "_model_name": "LayoutModel",
            "_view_count": null,
            "_view_module": "@jupyter-widgets/base",
            "_view_module_version": "1.2.0",
            "_view_name": "LayoutView",
            "align_content": null,
            "align_items": null,
            "align_self": null,
            "border": null,
            "bottom": null,
            "display": null,
            "flex": null,
            "flex_flow": null,
            "grid_area": null,
            "grid_auto_columns": null,
            "grid_auto_flow": null,
            "grid_auto_rows": null,
            "grid_column": null,
            "grid_gap": null,
            "grid_row": null,
            "grid_template_areas": null,
            "grid_template_columns": null,
            "grid_template_rows": null,
            "height": null,
            "justify_content": null,
            "justify_items": null,
            "left": null,
            "margin": null,
            "max_height": null,
            "max_width": null,
            "min_height": null,
            "min_width": null,
            "object_fit": null,
            "object_position": null,
            "order": null,
            "overflow": null,
            "overflow_x": null,
            "overflow_y": null,
            "padding": null,
            "right": null,
            "top": null,
            "visibility": null,
            "width": "20px"
          }
        },
        "3d4df050d7fa451498bd13ee878d30a9": {
          "model_module": "@jupyter-widgets/controls",
          "model_name": "ProgressStyleModel",
          "model_module_version": "1.5.0",
          "state": {
            "_model_module": "@jupyter-widgets/controls",
            "_model_module_version": "1.5.0",
            "_model_name": "ProgressStyleModel",
            "_view_count": null,
            "_view_module": "@jupyter-widgets/base",
            "_view_module_version": "1.2.0",
            "_view_name": "StyleView",
            "bar_color": null,
            "description_width": ""
          }
        },
        "bd76b59b926e4362a7fb07c7d1c40095": {
          "model_module": "@jupyter-widgets/base",
          "model_name": "LayoutModel",
          "model_module_version": "1.2.0",
          "state": {
            "_model_module": "@jupyter-widgets/base",
            "_model_module_version": "1.2.0",
            "_model_name": "LayoutModel",
            "_view_count": null,
            "_view_module": "@jupyter-widgets/base",
            "_view_module_version": "1.2.0",
            "_view_name": "LayoutView",
            "align_content": null,
            "align_items": null,
            "align_self": null,
            "border": null,
            "bottom": null,
            "display": null,
            "flex": null,
            "flex_flow": null,
            "grid_area": null,
            "grid_auto_columns": null,
            "grid_auto_flow": null,
            "grid_auto_rows": null,
            "grid_column": null,
            "grid_gap": null,
            "grid_row": null,
            "grid_template_areas": null,
            "grid_template_columns": null,
            "grid_template_rows": null,
            "height": null,
            "justify_content": null,
            "justify_items": null,
            "left": null,
            "margin": null,
            "max_height": null,
            "max_width": null,
            "min_height": null,
            "min_width": null,
            "object_fit": null,
            "object_position": null,
            "order": null,
            "overflow": null,
            "overflow_x": null,
            "overflow_y": null,
            "padding": null,
            "right": null,
            "top": null,
            "visibility": null,
            "width": null
          }
        },
        "0983b510653c4c11b2ea0f456fae4edf": {
          "model_module": "@jupyter-widgets/controls",
          "model_name": "DescriptionStyleModel",
          "model_module_version": "1.5.0",
          "state": {
            "_model_module": "@jupyter-widgets/controls",
            "_model_module_version": "1.5.0",
            "_model_name": "DescriptionStyleModel",
            "_view_count": null,
            "_view_module": "@jupyter-widgets/base",
            "_view_module_version": "1.2.0",
            "_view_name": "StyleView",
            "description_width": ""
          }
        },
        "6d87aa023d384d7ea836cd6e57b3e42a": {
          "model_module": "@jupyter-widgets/controls",
          "model_name": "HBoxModel",
          "model_module_version": "1.5.0",
          "state": {
            "_dom_classes": [],
            "_model_module": "@jupyter-widgets/controls",
            "_model_module_version": "1.5.0",
            "_model_name": "HBoxModel",
            "_view_count": null,
            "_view_module": "@jupyter-widgets/controls",
            "_view_module_version": "1.5.0",
            "_view_name": "HBoxView",
            "box_style": "",
            "children": [
              "IPY_MODEL_dd93bf521961414681d3ff4ba82a8c7d",
              "IPY_MODEL_b73ce31b1a534b5c8191f24fd3181bfb",
              "IPY_MODEL_7b6f51594d1b4522ae3cd1a16b2760b6"
            ],
            "layout": "IPY_MODEL_42df57dfcaa245609641ca483be3d294"
          }
        },
        "dd93bf521961414681d3ff4ba82a8c7d": {
          "model_module": "@jupyter-widgets/controls",
          "model_name": "HTMLModel",
          "model_module_version": "1.5.0",
          "state": {
            "_dom_classes": [],
            "_model_module": "@jupyter-widgets/controls",
            "_model_module_version": "1.5.0",
            "_model_name": "HTMLModel",
            "_view_count": null,
            "_view_module": "@jupyter-widgets/controls",
            "_view_module_version": "1.5.0",
            "_view_name": "HTMLView",
            "description": "",
            "description_tooltip": null,
            "layout": "IPY_MODEL_dbb7f0e0e14441e882e50c3cfe8f9444",
            "placeholder": "​",
            "style": "IPY_MODEL_b08e1e9eec9f4706868bc06bca408b11",
            "value": "Dl Size...: 100%"
          }
        },
        "b73ce31b1a534b5c8191f24fd3181bfb": {
          "model_module": "@jupyter-widgets/controls",
          "model_name": "FloatProgressModel",
          "model_module_version": "1.5.0",
          "state": {
            "_dom_classes": [],
            "_model_module": "@jupyter-widgets/controls",
            "_model_module_version": "1.5.0",
            "_model_name": "FloatProgressModel",
            "_view_count": null,
            "_view_module": "@jupyter-widgets/controls",
            "_view_module_version": "1.5.0",
            "_view_name": "ProgressView",
            "bar_style": "success",
            "description": "",
            "description_tooltip": null,
            "layout": "IPY_MODEL_401da2f384ef49ab9f607809d55a7a34",
            "max": 1,
            "min": 0,
            "orientation": "horizontal",
            "style": "IPY_MODEL_c6be0076c446481daacfa3cb2ccd8dbf",
            "value": 1
          }
        },
        "7b6f51594d1b4522ae3cd1a16b2760b6": {
          "model_module": "@jupyter-widgets/controls",
          "model_name": "HTMLModel",
          "model_module_version": "1.5.0",
          "state": {
            "_dom_classes": [],
            "_model_module": "@jupyter-widgets/controls",
            "_model_module_version": "1.5.0",
            "_model_name": "HTMLModel",
            "_view_count": null,
            "_view_module": "@jupyter-widgets/controls",
            "_view_module_version": "1.5.0",
            "_view_name": "HTMLView",
            "description": "",
            "description_tooltip": null,
            "layout": "IPY_MODEL_805fa959c44f4a5b8d1dd09a03c01239",
            "placeholder": "​",
            "style": "IPY_MODEL_58f7a5d94fe444aa9781e1a51716a4ad",
            "value": " 84125825/84125825 [00:00&lt;00:00, 1117495753.92 MiB/s]"
          }
        },
        "42df57dfcaa245609641ca483be3d294": {
          "model_module": "@jupyter-widgets/base",
          "model_name": "LayoutModel",
          "model_module_version": "1.2.0",
          "state": {
            "_model_module": "@jupyter-widgets/base",
            "_model_module_version": "1.2.0",
            "_model_name": "LayoutModel",
            "_view_count": null,
            "_view_module": "@jupyter-widgets/base",
            "_view_module_version": "1.2.0",
            "_view_name": "LayoutView",
            "align_content": null,
            "align_items": null,
            "align_self": null,
            "border": null,
            "bottom": null,
            "display": null,
            "flex": null,
            "flex_flow": null,
            "grid_area": null,
            "grid_auto_columns": null,
            "grid_auto_flow": null,
            "grid_auto_rows": null,
            "grid_column": null,
            "grid_gap": null,
            "grid_row": null,
            "grid_template_areas": null,
            "grid_template_columns": null,
            "grid_template_rows": null,
            "height": null,
            "justify_content": null,
            "justify_items": null,
            "left": null,
            "margin": null,
            "max_height": null,
            "max_width": null,
            "min_height": null,
            "min_width": null,
            "object_fit": null,
            "object_position": null,
            "order": null,
            "overflow": null,
            "overflow_x": null,
            "overflow_y": null,
            "padding": null,
            "right": null,
            "top": null,
            "visibility": null,
            "width": null
          }
        },
        "dbb7f0e0e14441e882e50c3cfe8f9444": {
          "model_module": "@jupyter-widgets/base",
          "model_name": "LayoutModel",
          "model_module_version": "1.2.0",
          "state": {
            "_model_module": "@jupyter-widgets/base",
            "_model_module_version": "1.2.0",
            "_model_name": "LayoutModel",
            "_view_count": null,
            "_view_module": "@jupyter-widgets/base",
            "_view_module_version": "1.2.0",
            "_view_name": "LayoutView",
            "align_content": null,
            "align_items": null,
            "align_self": null,
            "border": null,
            "bottom": null,
            "display": null,
            "flex": null,
            "flex_flow": null,
            "grid_area": null,
            "grid_auto_columns": null,
            "grid_auto_flow": null,
            "grid_auto_rows": null,
            "grid_column": null,
            "grid_gap": null,
            "grid_row": null,
            "grid_template_areas": null,
            "grid_template_columns": null,
            "grid_template_rows": null,
            "height": null,
            "justify_content": null,
            "justify_items": null,
            "left": null,
            "margin": null,
            "max_height": null,
            "max_width": null,
            "min_height": null,
            "min_width": null,
            "object_fit": null,
            "object_position": null,
            "order": null,
            "overflow": null,
            "overflow_x": null,
            "overflow_y": null,
            "padding": null,
            "right": null,
            "top": null,
            "visibility": null,
            "width": null
          }
        },
        "b08e1e9eec9f4706868bc06bca408b11": {
          "model_module": "@jupyter-widgets/controls",
          "model_name": "DescriptionStyleModel",
          "model_module_version": "1.5.0",
          "state": {
            "_model_module": "@jupyter-widgets/controls",
            "_model_module_version": "1.5.0",
            "_model_name": "DescriptionStyleModel",
            "_view_count": null,
            "_view_module": "@jupyter-widgets/base",
            "_view_module_version": "1.2.0",
            "_view_name": "StyleView",
            "description_width": ""
          }
        },
        "401da2f384ef49ab9f607809d55a7a34": {
          "model_module": "@jupyter-widgets/base",
          "model_name": "LayoutModel",
          "model_module_version": "1.2.0",
          "state": {
            "_model_module": "@jupyter-widgets/base",
            "_model_module_version": "1.2.0",
            "_model_name": "LayoutModel",
            "_view_count": null,
            "_view_module": "@jupyter-widgets/base",
            "_view_module_version": "1.2.0",
            "_view_name": "LayoutView",
            "align_content": null,
            "align_items": null,
            "align_self": null,
            "border": null,
            "bottom": null,
            "display": null,
            "flex": null,
            "flex_flow": null,
            "grid_area": null,
            "grid_auto_columns": null,
            "grid_auto_flow": null,
            "grid_auto_rows": null,
            "grid_column": null,
            "grid_gap": null,
            "grid_row": null,
            "grid_template_areas": null,
            "grid_template_columns": null,
            "grid_template_rows": null,
            "height": null,
            "justify_content": null,
            "justify_items": null,
            "left": null,
            "margin": null,
            "max_height": null,
            "max_width": null,
            "min_height": null,
            "min_width": null,
            "object_fit": null,
            "object_position": null,
            "order": null,
            "overflow": null,
            "overflow_x": null,
            "overflow_y": null,
            "padding": null,
            "right": null,
            "top": null,
            "visibility": null,
            "width": "20px"
          }
        },
        "c6be0076c446481daacfa3cb2ccd8dbf": {
          "model_module": "@jupyter-widgets/controls",
          "model_name": "ProgressStyleModel",
          "model_module_version": "1.5.0",
          "state": {
            "_model_module": "@jupyter-widgets/controls",
            "_model_module_version": "1.5.0",
            "_model_name": "ProgressStyleModel",
            "_view_count": null,
            "_view_module": "@jupyter-widgets/base",
            "_view_module_version": "1.2.0",
            "_view_name": "StyleView",
            "bar_color": null,
            "description_width": ""
          }
        },
        "805fa959c44f4a5b8d1dd09a03c01239": {
          "model_module": "@jupyter-widgets/base",
          "model_name": "LayoutModel",
          "model_module_version": "1.2.0",
          "state": {
            "_model_module": "@jupyter-widgets/base",
            "_model_module_version": "1.2.0",
            "_model_name": "LayoutModel",
            "_view_count": null,
            "_view_module": "@jupyter-widgets/base",
            "_view_module_version": "1.2.0",
            "_view_name": "LayoutView",
            "align_content": null,
            "align_items": null,
            "align_self": null,
            "border": null,
            "bottom": null,
            "display": null,
            "flex": null,
            "flex_flow": null,
            "grid_area": null,
            "grid_auto_columns": null,
            "grid_auto_flow": null,
            "grid_auto_rows": null,
            "grid_column": null,
            "grid_gap": null,
            "grid_row": null,
            "grid_template_areas": null,
            "grid_template_columns": null,
            "grid_template_rows": null,
            "height": null,
            "justify_content": null,
            "justify_items": null,
            "left": null,
            "margin": null,
            "max_height": null,
            "max_width": null,
            "min_height": null,
            "min_width": null,
            "object_fit": null,
            "object_position": null,
            "order": null,
            "overflow": null,
            "overflow_x": null,
            "overflow_y": null,
            "padding": null,
            "right": null,
            "top": null,
            "visibility": null,
            "width": null
          }
        },
        "58f7a5d94fe444aa9781e1a51716a4ad": {
          "model_module": "@jupyter-widgets/controls",
          "model_name": "DescriptionStyleModel",
          "model_module_version": "1.5.0",
          "state": {
            "_model_module": "@jupyter-widgets/controls",
            "_model_module_version": "1.5.0",
            "_model_name": "DescriptionStyleModel",
            "_view_count": null,
            "_view_module": "@jupyter-widgets/base",
            "_view_module_version": "1.2.0",
            "_view_name": "StyleView",
            "description_width": ""
          }
        },
        "7a4e94b018a347dfb7c722cf1925df59": {
          "model_module": "@jupyter-widgets/controls",
          "model_name": "HBoxModel",
          "model_module_version": "1.5.0",
          "state": {
            "_dom_classes": [],
            "_model_module": "@jupyter-widgets/controls",
            "_model_module_version": "1.5.0",
            "_model_name": "HBoxModel",
            "_view_count": null,
            "_view_module": "@jupyter-widgets/controls",
            "_view_module_version": "1.5.0",
            "_view_name": "HBoxView",
            "box_style": "",
            "children": [
              "IPY_MODEL_229aef7a134c41e2919a7c7c92f17594",
              "IPY_MODEL_17db7995ac0e4a33929a7bdf314d6269",
              "IPY_MODEL_91302fd6606242a8ad1a583b10535824"
            ],
            "layout": "IPY_MODEL_1c5d78dbf5c143adaa5284d7215fc61c"
          }
        },
        "229aef7a134c41e2919a7c7c92f17594": {
          "model_module": "@jupyter-widgets/controls",
          "model_name": "HTMLModel",
          "model_module_version": "1.5.0",
          "state": {
            "_dom_classes": [],
            "_model_module": "@jupyter-widgets/controls",
            "_model_module_version": "1.5.0",
            "_model_name": "HTMLModel",
            "_view_count": null,
            "_view_module": "@jupyter-widgets/controls",
            "_view_module_version": "1.5.0",
            "_view_name": "HTMLView",
            "description": "",
            "description_tooltip": null,
            "layout": "IPY_MODEL_3d74d7f0def94fed9af06601841576c4",
            "placeholder": "​",
            "style": "IPY_MODEL_f2803418ef99477facd1bc50251e6d25",
            "value": "Generating splits...: 100%"
          }
        },
        "17db7995ac0e4a33929a7bdf314d6269": {
          "model_module": "@jupyter-widgets/controls",
          "model_name": "FloatProgressModel",
          "model_module_version": "1.5.0",
          "state": {
            "_dom_classes": [],
            "_model_module": "@jupyter-widgets/controls",
            "_model_module_version": "1.5.0",
            "_model_name": "FloatProgressModel",
            "_view_count": null,
            "_view_module": "@jupyter-widgets/controls",
            "_view_module_version": "1.5.0",
            "_view_name": "ProgressView",
            "bar_style": "",
            "description": "",
            "description_tooltip": null,
            "layout": "IPY_MODEL_a4b8ce7eb5734ec890de8bbf80bf4e7d",
            "max": 3,
            "min": 0,
            "orientation": "horizontal",
            "style": "IPY_MODEL_93ed9b9744904eb8bba429e6c2fd6692",
            "value": 3
          }
        },
        "91302fd6606242a8ad1a583b10535824": {
          "model_module": "@jupyter-widgets/controls",
          "model_name": "HTMLModel",
          "model_module_version": "1.5.0",
          "state": {
            "_dom_classes": [],
            "_model_module": "@jupyter-widgets/controls",
            "_model_module_version": "1.5.0",
            "_model_name": "HTMLModel",
            "_view_count": null,
            "_view_module": "@jupyter-widgets/controls",
            "_view_module_version": "1.5.0",
            "_view_name": "HTMLView",
            "description": "",
            "description_tooltip": null,
            "layout": "IPY_MODEL_26dc01c5fdda4047aa03a0164acafe8b",
            "placeholder": "​",
            "style": "IPY_MODEL_1afbac83a455480bb0dd74e1003c688c",
            "value": " 3/3 [00:46&lt;00:00, 15.24s/ splits]"
          }
        },
        "1c5d78dbf5c143adaa5284d7215fc61c": {
          "model_module": "@jupyter-widgets/base",
          "model_name": "LayoutModel",
          "model_module_version": "1.2.0",
          "state": {
            "_model_module": "@jupyter-widgets/base",
            "_model_module_version": "1.2.0",
            "_model_name": "LayoutModel",
            "_view_count": null,
            "_view_module": "@jupyter-widgets/base",
            "_view_module_version": "1.2.0",
            "_view_name": "LayoutView",
            "align_content": null,
            "align_items": null,
            "align_self": null,
            "border": null,
            "bottom": null,
            "display": null,
            "flex": null,
            "flex_flow": null,
            "grid_area": null,
            "grid_auto_columns": null,
            "grid_auto_flow": null,
            "grid_auto_rows": null,
            "grid_column": null,
            "grid_gap": null,
            "grid_row": null,
            "grid_template_areas": null,
            "grid_template_columns": null,
            "grid_template_rows": null,
            "height": null,
            "justify_content": null,
            "justify_items": null,
            "left": null,
            "margin": null,
            "max_height": null,
            "max_width": null,
            "min_height": null,
            "min_width": null,
            "object_fit": null,
            "object_position": null,
            "order": null,
            "overflow": null,
            "overflow_x": null,
            "overflow_y": null,
            "padding": null,
            "right": null,
            "top": null,
            "visibility": "hidden",
            "width": null
          }
        },
        "3d74d7f0def94fed9af06601841576c4": {
          "model_module": "@jupyter-widgets/base",
          "model_name": "LayoutModel",
          "model_module_version": "1.2.0",
          "state": {
            "_model_module": "@jupyter-widgets/base",
            "_model_module_version": "1.2.0",
            "_model_name": "LayoutModel",
            "_view_count": null,
            "_view_module": "@jupyter-widgets/base",
            "_view_module_version": "1.2.0",
            "_view_name": "LayoutView",
            "align_content": null,
            "align_items": null,
            "align_self": null,
            "border": null,
            "bottom": null,
            "display": null,
            "flex": null,
            "flex_flow": null,
            "grid_area": null,
            "grid_auto_columns": null,
            "grid_auto_flow": null,
            "grid_auto_rows": null,
            "grid_column": null,
            "grid_gap": null,
            "grid_row": null,
            "grid_template_areas": null,
            "grid_template_columns": null,
            "grid_template_rows": null,
            "height": null,
            "justify_content": null,
            "justify_items": null,
            "left": null,
            "margin": null,
            "max_height": null,
            "max_width": null,
            "min_height": null,
            "min_width": null,
            "object_fit": null,
            "object_position": null,
            "order": null,
            "overflow": null,
            "overflow_x": null,
            "overflow_y": null,
            "padding": null,
            "right": null,
            "top": null,
            "visibility": null,
            "width": null
          }
        },
        "f2803418ef99477facd1bc50251e6d25": {
          "model_module": "@jupyter-widgets/controls",
          "model_name": "DescriptionStyleModel",
          "model_module_version": "1.5.0",
          "state": {
            "_model_module": "@jupyter-widgets/controls",
            "_model_module_version": "1.5.0",
            "_model_name": "DescriptionStyleModel",
            "_view_count": null,
            "_view_module": "@jupyter-widgets/base",
            "_view_module_version": "1.2.0",
            "_view_name": "StyleView",
            "description_width": ""
          }
        },
        "a4b8ce7eb5734ec890de8bbf80bf4e7d": {
          "model_module": "@jupyter-widgets/base",
          "model_name": "LayoutModel",
          "model_module_version": "1.2.0",
          "state": {
            "_model_module": "@jupyter-widgets/base",
            "_model_module_version": "1.2.0",
            "_model_name": "LayoutModel",
            "_view_count": null,
            "_view_module": "@jupyter-widgets/base",
            "_view_module_version": "1.2.0",
            "_view_name": "LayoutView",
            "align_content": null,
            "align_items": null,
            "align_self": null,
            "border": null,
            "bottom": null,
            "display": null,
            "flex": null,
            "flex_flow": null,
            "grid_area": null,
            "grid_auto_columns": null,
            "grid_auto_flow": null,
            "grid_auto_rows": null,
            "grid_column": null,
            "grid_gap": null,
            "grid_row": null,
            "grid_template_areas": null,
            "grid_template_columns": null,
            "grid_template_rows": null,
            "height": null,
            "justify_content": null,
            "justify_items": null,
            "left": null,
            "margin": null,
            "max_height": null,
            "max_width": null,
            "min_height": null,
            "min_width": null,
            "object_fit": null,
            "object_position": null,
            "order": null,
            "overflow": null,
            "overflow_x": null,
            "overflow_y": null,
            "padding": null,
            "right": null,
            "top": null,
            "visibility": null,
            "width": null
          }
        },
        "93ed9b9744904eb8bba429e6c2fd6692": {
          "model_module": "@jupyter-widgets/controls",
          "model_name": "ProgressStyleModel",
          "model_module_version": "1.5.0",
          "state": {
            "_model_module": "@jupyter-widgets/controls",
            "_model_module_version": "1.5.0",
            "_model_name": "ProgressStyleModel",
            "_view_count": null,
            "_view_module": "@jupyter-widgets/base",
            "_view_module_version": "1.2.0",
            "_view_name": "StyleView",
            "bar_color": null,
            "description_width": ""
          }
        },
        "26dc01c5fdda4047aa03a0164acafe8b": {
          "model_module": "@jupyter-widgets/base",
          "model_name": "LayoutModel",
          "model_module_version": "1.2.0",
          "state": {
            "_model_module": "@jupyter-widgets/base",
            "_model_module_version": "1.2.0",
            "_model_name": "LayoutModel",
            "_view_count": null,
            "_view_module": "@jupyter-widgets/base",
            "_view_module_version": "1.2.0",
            "_view_name": "LayoutView",
            "align_content": null,
            "align_items": null,
            "align_self": null,
            "border": null,
            "bottom": null,
            "display": null,
            "flex": null,
            "flex_flow": null,
            "grid_area": null,
            "grid_auto_columns": null,
            "grid_auto_flow": null,
            "grid_auto_rows": null,
            "grid_column": null,
            "grid_gap": null,
            "grid_row": null,
            "grid_template_areas": null,
            "grid_template_columns": null,
            "grid_template_rows": null,
            "height": null,
            "justify_content": null,
            "justify_items": null,
            "left": null,
            "margin": null,
            "max_height": null,
            "max_width": null,
            "min_height": null,
            "min_width": null,
            "object_fit": null,
            "object_position": null,
            "order": null,
            "overflow": null,
            "overflow_x": null,
            "overflow_y": null,
            "padding": null,
            "right": null,
            "top": null,
            "visibility": null,
            "width": null
          }
        },
        "1afbac83a455480bb0dd74e1003c688c": {
          "model_module": "@jupyter-widgets/controls",
          "model_name": "DescriptionStyleModel",
          "model_module_version": "1.5.0",
          "state": {
            "_model_module": "@jupyter-widgets/controls",
            "_model_module_version": "1.5.0",
            "_model_name": "DescriptionStyleModel",
            "_view_count": null,
            "_view_module": "@jupyter-widgets/base",
            "_view_module_version": "1.2.0",
            "_view_name": "StyleView",
            "description_width": ""
          }
        },
        "d3f5092add184b63aa96bb4d1c845bbb": {
          "model_module": "@jupyter-widgets/controls",
          "model_name": "HBoxModel",
          "model_module_version": "1.5.0",
          "state": {
            "_dom_classes": [],
            "_model_module": "@jupyter-widgets/controls",
            "_model_module_version": "1.5.0",
            "_model_name": "HBoxModel",
            "_view_count": null,
            "_view_module": "@jupyter-widgets/controls",
            "_view_module_version": "1.5.0",
            "_view_name": "HBoxView",
            "box_style": "",
            "children": [
              "IPY_MODEL_54727bb1ccd14021bc76ea42b1cdd2f5",
              "IPY_MODEL_15333acf0159474e98533a33bd9f65bd",
              "IPY_MODEL_af6c1e81339c4b24b8ca2d63873e8a25"
            ],
            "layout": "IPY_MODEL_64476ffe650b412997f697d6c694d677"
          }
        },
        "54727bb1ccd14021bc76ea42b1cdd2f5": {
          "model_module": "@jupyter-widgets/controls",
          "model_name": "HTMLModel",
          "model_module_version": "1.5.0",
          "state": {
            "_dom_classes": [],
            "_model_module": "@jupyter-widgets/controls",
            "_model_module_version": "1.5.0",
            "_model_name": "HTMLModel",
            "_view_count": null,
            "_view_module": "@jupyter-widgets/controls",
            "_view_module_version": "1.5.0",
            "_view_name": "HTMLView",
            "description": "",
            "description_tooltip": null,
            "layout": "IPY_MODEL_c1b4a085de4b4bc695e48910e3e4f1b6",
            "placeholder": "​",
            "style": "IPY_MODEL_24a16354d63c495a98b6f8cae156e87c",
            "value": "Generating train examples...: 100%"
          }
        },
        "15333acf0159474e98533a33bd9f65bd": {
          "model_module": "@jupyter-widgets/controls",
          "model_name": "FloatProgressModel",
          "model_module_version": "1.5.0",
          "state": {
            "_dom_classes": [],
            "_model_module": "@jupyter-widgets/controls",
            "_model_module_version": "1.5.0",
            "_model_name": "FloatProgressModel",
            "_view_count": null,
            "_view_module": "@jupyter-widgets/controls",
            "_view_module_version": "1.5.0",
            "_view_name": "ProgressView",
            "bar_style": "",
            "description": "",
            "description_tooltip": null,
            "layout": "IPY_MODEL_7380c51ac1d5427dbd8286d6188dc5ac",
            "max": 25000,
            "min": 0,
            "orientation": "horizontal",
            "style": "IPY_MODEL_a14bded063944d32b7e0367dc317aeb4",
            "value": 25000
          }
        },
        "af6c1e81339c4b24b8ca2d63873e8a25": {
          "model_module": "@jupyter-widgets/controls",
          "model_name": "HTMLModel",
          "model_module_version": "1.5.0",
          "state": {
            "_dom_classes": [],
            "_model_module": "@jupyter-widgets/controls",
            "_model_module_version": "1.5.0",
            "_model_name": "HTMLModel",
            "_view_count": null,
            "_view_module": "@jupyter-widgets/controls",
            "_view_module_version": "1.5.0",
            "_view_name": "HTMLView",
            "description": "",
            "description_tooltip": null,
            "layout": "IPY_MODEL_267107b5621f4ae0a141df8e991661f8",
            "placeholder": "​",
            "style": "IPY_MODEL_a3965e5156b248f484b295d2466f7433",
            "value": " 24915/25000 [00:09&lt;00:00, 1667.18 examples/s]"
          }
        },
        "64476ffe650b412997f697d6c694d677": {
          "model_module": "@jupyter-widgets/base",
          "model_name": "LayoutModel",
          "model_module_version": "1.2.0",
          "state": {
            "_model_module": "@jupyter-widgets/base",
            "_model_module_version": "1.2.0",
            "_model_name": "LayoutModel",
            "_view_count": null,
            "_view_module": "@jupyter-widgets/base",
            "_view_module_version": "1.2.0",
            "_view_name": "LayoutView",
            "align_content": null,
            "align_items": null,
            "align_self": null,
            "border": null,
            "bottom": null,
            "display": null,
            "flex": null,
            "flex_flow": null,
            "grid_area": null,
            "grid_auto_columns": null,
            "grid_auto_flow": null,
            "grid_auto_rows": null,
            "grid_column": null,
            "grid_gap": null,
            "grid_row": null,
            "grid_template_areas": null,
            "grid_template_columns": null,
            "grid_template_rows": null,
            "height": null,
            "justify_content": null,
            "justify_items": null,
            "left": null,
            "margin": null,
            "max_height": null,
            "max_width": null,
            "min_height": null,
            "min_width": null,
            "object_fit": null,
            "object_position": null,
            "order": null,
            "overflow": null,
            "overflow_x": null,
            "overflow_y": null,
            "padding": null,
            "right": null,
            "top": null,
            "visibility": "hidden",
            "width": null
          }
        },
        "c1b4a085de4b4bc695e48910e3e4f1b6": {
          "model_module": "@jupyter-widgets/base",
          "model_name": "LayoutModel",
          "model_module_version": "1.2.0",
          "state": {
            "_model_module": "@jupyter-widgets/base",
            "_model_module_version": "1.2.0",
            "_model_name": "LayoutModel",
            "_view_count": null,
            "_view_module": "@jupyter-widgets/base",
            "_view_module_version": "1.2.0",
            "_view_name": "LayoutView",
            "align_content": null,
            "align_items": null,
            "align_self": null,
            "border": null,
            "bottom": null,
            "display": null,
            "flex": null,
            "flex_flow": null,
            "grid_area": null,
            "grid_auto_columns": null,
            "grid_auto_flow": null,
            "grid_auto_rows": null,
            "grid_column": null,
            "grid_gap": null,
            "grid_row": null,
            "grid_template_areas": null,
            "grid_template_columns": null,
            "grid_template_rows": null,
            "height": null,
            "justify_content": null,
            "justify_items": null,
            "left": null,
            "margin": null,
            "max_height": null,
            "max_width": null,
            "min_height": null,
            "min_width": null,
            "object_fit": null,
            "object_position": null,
            "order": null,
            "overflow": null,
            "overflow_x": null,
            "overflow_y": null,
            "padding": null,
            "right": null,
            "top": null,
            "visibility": null,
            "width": null
          }
        },
        "24a16354d63c495a98b6f8cae156e87c": {
          "model_module": "@jupyter-widgets/controls",
          "model_name": "DescriptionStyleModel",
          "model_module_version": "1.5.0",
          "state": {
            "_model_module": "@jupyter-widgets/controls",
            "_model_module_version": "1.5.0",
            "_model_name": "DescriptionStyleModel",
            "_view_count": null,
            "_view_module": "@jupyter-widgets/base",
            "_view_module_version": "1.2.0",
            "_view_name": "StyleView",
            "description_width": ""
          }
        },
        "7380c51ac1d5427dbd8286d6188dc5ac": {
          "model_module": "@jupyter-widgets/base",
          "model_name": "LayoutModel",
          "model_module_version": "1.2.0",
          "state": {
            "_model_module": "@jupyter-widgets/base",
            "_model_module_version": "1.2.0",
            "_model_name": "LayoutModel",
            "_view_count": null,
            "_view_module": "@jupyter-widgets/base",
            "_view_module_version": "1.2.0",
            "_view_name": "LayoutView",
            "align_content": null,
            "align_items": null,
            "align_self": null,
            "border": null,
            "bottom": null,
            "display": null,
            "flex": null,
            "flex_flow": null,
            "grid_area": null,
            "grid_auto_columns": null,
            "grid_auto_flow": null,
            "grid_auto_rows": null,
            "grid_column": null,
            "grid_gap": null,
            "grid_row": null,
            "grid_template_areas": null,
            "grid_template_columns": null,
            "grid_template_rows": null,
            "height": null,
            "justify_content": null,
            "justify_items": null,
            "left": null,
            "margin": null,
            "max_height": null,
            "max_width": null,
            "min_height": null,
            "min_width": null,
            "object_fit": null,
            "object_position": null,
            "order": null,
            "overflow": null,
            "overflow_x": null,
            "overflow_y": null,
            "padding": null,
            "right": null,
            "top": null,
            "visibility": null,
            "width": null
          }
        },
        "a14bded063944d32b7e0367dc317aeb4": {
          "model_module": "@jupyter-widgets/controls",
          "model_name": "ProgressStyleModel",
          "model_module_version": "1.5.0",
          "state": {
            "_model_module": "@jupyter-widgets/controls",
            "_model_module_version": "1.5.0",
            "_model_name": "ProgressStyleModel",
            "_view_count": null,
            "_view_module": "@jupyter-widgets/base",
            "_view_module_version": "1.2.0",
            "_view_name": "StyleView",
            "bar_color": null,
            "description_width": ""
          }
        },
        "267107b5621f4ae0a141df8e991661f8": {
          "model_module": "@jupyter-widgets/base",
          "model_name": "LayoutModel",
          "model_module_version": "1.2.0",
          "state": {
            "_model_module": "@jupyter-widgets/base",
            "_model_module_version": "1.2.0",
            "_model_name": "LayoutModel",
            "_view_count": null,
            "_view_module": "@jupyter-widgets/base",
            "_view_module_version": "1.2.0",
            "_view_name": "LayoutView",
            "align_content": null,
            "align_items": null,
            "align_self": null,
            "border": null,
            "bottom": null,
            "display": null,
            "flex": null,
            "flex_flow": null,
            "grid_area": null,
            "grid_auto_columns": null,
            "grid_auto_flow": null,
            "grid_auto_rows": null,
            "grid_column": null,
            "grid_gap": null,
            "grid_row": null,
            "grid_template_areas": null,
            "grid_template_columns": null,
            "grid_template_rows": null,
            "height": null,
            "justify_content": null,
            "justify_items": null,
            "left": null,
            "margin": null,
            "max_height": null,
            "max_width": null,
            "min_height": null,
            "min_width": null,
            "object_fit": null,
            "object_position": null,
            "order": null,
            "overflow": null,
            "overflow_x": null,
            "overflow_y": null,
            "padding": null,
            "right": null,
            "top": null,
            "visibility": null,
            "width": null
          }
        },
        "a3965e5156b248f484b295d2466f7433": {
          "model_module": "@jupyter-widgets/controls",
          "model_name": "DescriptionStyleModel",
          "model_module_version": "1.5.0",
          "state": {
            "_model_module": "@jupyter-widgets/controls",
            "_model_module_version": "1.5.0",
            "_model_name": "DescriptionStyleModel",
            "_view_count": null,
            "_view_module": "@jupyter-widgets/base",
            "_view_module_version": "1.2.0",
            "_view_name": "StyleView",
            "description_width": ""
          }
        },
        "389526f299b94904b2a18fa307012ab2": {
          "model_module": "@jupyter-widgets/controls",
          "model_name": "HBoxModel",
          "model_module_version": "1.5.0",
          "state": {
            "_dom_classes": [],
            "_model_module": "@jupyter-widgets/controls",
            "_model_module_version": "1.5.0",
            "_model_name": "HBoxModel",
            "_view_count": null,
            "_view_module": "@jupyter-widgets/controls",
            "_view_module_version": "1.5.0",
            "_view_name": "HBoxView",
            "box_style": "",
            "children": [
              "IPY_MODEL_63e57d516d9e4a1cba962705dba25005",
              "IPY_MODEL_e995cc36e70342179ebc31bce14d9c4b",
              "IPY_MODEL_3d084b3faab044bfb7bae8b2b7e58b0b"
            ],
            "layout": "IPY_MODEL_38ec160dfec94a429468f70e87cfb91d"
          }
        },
        "63e57d516d9e4a1cba962705dba25005": {
          "model_module": "@jupyter-widgets/controls",
          "model_name": "HTMLModel",
          "model_module_version": "1.5.0",
          "state": {
            "_dom_classes": [],
            "_model_module": "@jupyter-widgets/controls",
            "_model_module_version": "1.5.0",
            "_model_name": "HTMLModel",
            "_view_count": null,
            "_view_module": "@jupyter-widgets/controls",
            "_view_module_version": "1.5.0",
            "_view_name": "HTMLView",
            "description": "",
            "description_tooltip": null,
            "layout": "IPY_MODEL_d07e088299fa4fc2b42d03569c5ec924",
            "placeholder": "​",
            "style": "IPY_MODEL_2339991a391a48ce8a4f6d72feb96bd8",
            "value": "Shuffling ~/tensorflow_datasets/imdb_reviews/plain_text/1.0.0.incompleteAPT13Z/imdb_reviews-train.tfrecord*...:  87%"
          }
        },
        "e995cc36e70342179ebc31bce14d9c4b": {
          "model_module": "@jupyter-widgets/controls",
          "model_name": "FloatProgressModel",
          "model_module_version": "1.5.0",
          "state": {
            "_dom_classes": [],
            "_model_module": "@jupyter-widgets/controls",
            "_model_module_version": "1.5.0",
            "_model_name": "FloatProgressModel",
            "_view_count": null,
            "_view_module": "@jupyter-widgets/controls",
            "_view_module_version": "1.5.0",
            "_view_name": "ProgressView",
            "bar_style": "",
            "description": "",
            "description_tooltip": null,
            "layout": "IPY_MODEL_c36a17bc316b4b6791b52e018bf04394",
            "max": 25000,
            "min": 0,
            "orientation": "horizontal",
            "style": "IPY_MODEL_b475b1946fb64f07b45e7feefb27d819",
            "value": 25000
          }
        },
        "3d084b3faab044bfb7bae8b2b7e58b0b": {
          "model_module": "@jupyter-widgets/controls",
          "model_name": "HTMLModel",
          "model_module_version": "1.5.0",
          "state": {
            "_dom_classes": [],
            "_model_module": "@jupyter-widgets/controls",
            "_model_module_version": "1.5.0",
            "_model_name": "HTMLModel",
            "_view_count": null,
            "_view_module": "@jupyter-widgets/controls",
            "_view_module_version": "1.5.0",
            "_view_name": "HTMLView",
            "description": "",
            "description_tooltip": null,
            "layout": "IPY_MODEL_1403bf8d04f7443f8fadf2f67c58080d",
            "placeholder": "​",
            "style": "IPY_MODEL_9514493443ef408eb0f5d810adc8a058",
            "value": " 21738/25000 [00:00&lt;00:00, 78536.95 examples/s]"
          }
        },
        "38ec160dfec94a429468f70e87cfb91d": {
          "model_module": "@jupyter-widgets/base",
          "model_name": "LayoutModel",
          "model_module_version": "1.2.0",
          "state": {
            "_model_module": "@jupyter-widgets/base",
            "_model_module_version": "1.2.0",
            "_model_name": "LayoutModel",
            "_view_count": null,
            "_view_module": "@jupyter-widgets/base",
            "_view_module_version": "1.2.0",
            "_view_name": "LayoutView",
            "align_content": null,
            "align_items": null,
            "align_self": null,
            "border": null,
            "bottom": null,
            "display": null,
            "flex": null,
            "flex_flow": null,
            "grid_area": null,
            "grid_auto_columns": null,
            "grid_auto_flow": null,
            "grid_auto_rows": null,
            "grid_column": null,
            "grid_gap": null,
            "grid_row": null,
            "grid_template_areas": null,
            "grid_template_columns": null,
            "grid_template_rows": null,
            "height": null,
            "justify_content": null,
            "justify_items": null,
            "left": null,
            "margin": null,
            "max_height": null,
            "max_width": null,
            "min_height": null,
            "min_width": null,
            "object_fit": null,
            "object_position": null,
            "order": null,
            "overflow": null,
            "overflow_x": null,
            "overflow_y": null,
            "padding": null,
            "right": null,
            "top": null,
            "visibility": "hidden",
            "width": null
          }
        },
        "d07e088299fa4fc2b42d03569c5ec924": {
          "model_module": "@jupyter-widgets/base",
          "model_name": "LayoutModel",
          "model_module_version": "1.2.0",
          "state": {
            "_model_module": "@jupyter-widgets/base",
            "_model_module_version": "1.2.0",
            "_model_name": "LayoutModel",
            "_view_count": null,
            "_view_module": "@jupyter-widgets/base",
            "_view_module_version": "1.2.0",
            "_view_name": "LayoutView",
            "align_content": null,
            "align_items": null,
            "align_self": null,
            "border": null,
            "bottom": null,
            "display": null,
            "flex": null,
            "flex_flow": null,
            "grid_area": null,
            "grid_auto_columns": null,
            "grid_auto_flow": null,
            "grid_auto_rows": null,
            "grid_column": null,
            "grid_gap": null,
            "grid_row": null,
            "grid_template_areas": null,
            "grid_template_columns": null,
            "grid_template_rows": null,
            "height": null,
            "justify_content": null,
            "justify_items": null,
            "left": null,
            "margin": null,
            "max_height": null,
            "max_width": null,
            "min_height": null,
            "min_width": null,
            "object_fit": null,
            "object_position": null,
            "order": null,
            "overflow": null,
            "overflow_x": null,
            "overflow_y": null,
            "padding": null,
            "right": null,
            "top": null,
            "visibility": null,
            "width": null
          }
        },
        "2339991a391a48ce8a4f6d72feb96bd8": {
          "model_module": "@jupyter-widgets/controls",
          "model_name": "DescriptionStyleModel",
          "model_module_version": "1.5.0",
          "state": {
            "_model_module": "@jupyter-widgets/controls",
            "_model_module_version": "1.5.0",
            "_model_name": "DescriptionStyleModel",
            "_view_count": null,
            "_view_module": "@jupyter-widgets/base",
            "_view_module_version": "1.2.0",
            "_view_name": "StyleView",
            "description_width": ""
          }
        },
        "c36a17bc316b4b6791b52e018bf04394": {
          "model_module": "@jupyter-widgets/base",
          "model_name": "LayoutModel",
          "model_module_version": "1.2.0",
          "state": {
            "_model_module": "@jupyter-widgets/base",
            "_model_module_version": "1.2.0",
            "_model_name": "LayoutModel",
            "_view_count": null,
            "_view_module": "@jupyter-widgets/base",
            "_view_module_version": "1.2.0",
            "_view_name": "LayoutView",
            "align_content": null,
            "align_items": null,
            "align_self": null,
            "border": null,
            "bottom": null,
            "display": null,
            "flex": null,
            "flex_flow": null,
            "grid_area": null,
            "grid_auto_columns": null,
            "grid_auto_flow": null,
            "grid_auto_rows": null,
            "grid_column": null,
            "grid_gap": null,
            "grid_row": null,
            "grid_template_areas": null,
            "grid_template_columns": null,
            "grid_template_rows": null,
            "height": null,
            "justify_content": null,
            "justify_items": null,
            "left": null,
            "margin": null,
            "max_height": null,
            "max_width": null,
            "min_height": null,
            "min_width": null,
            "object_fit": null,
            "object_position": null,
            "order": null,
            "overflow": null,
            "overflow_x": null,
            "overflow_y": null,
            "padding": null,
            "right": null,
            "top": null,
            "visibility": null,
            "width": null
          }
        },
        "b475b1946fb64f07b45e7feefb27d819": {
          "model_module": "@jupyter-widgets/controls",
          "model_name": "ProgressStyleModel",
          "model_module_version": "1.5.0",
          "state": {
            "_model_module": "@jupyter-widgets/controls",
            "_model_module_version": "1.5.0",
            "_model_name": "ProgressStyleModel",
            "_view_count": null,
            "_view_module": "@jupyter-widgets/base",
            "_view_module_version": "1.2.0",
            "_view_name": "StyleView",
            "bar_color": null,
            "description_width": ""
          }
        },
        "1403bf8d04f7443f8fadf2f67c58080d": {
          "model_module": "@jupyter-widgets/base",
          "model_name": "LayoutModel",
          "model_module_version": "1.2.0",
          "state": {
            "_model_module": "@jupyter-widgets/base",
            "_model_module_version": "1.2.0",
            "_model_name": "LayoutModel",
            "_view_count": null,
            "_view_module": "@jupyter-widgets/base",
            "_view_module_version": "1.2.0",
            "_view_name": "LayoutView",
            "align_content": null,
            "align_items": null,
            "align_self": null,
            "border": null,
            "bottom": null,
            "display": null,
            "flex": null,
            "flex_flow": null,
            "grid_area": null,
            "grid_auto_columns": null,
            "grid_auto_flow": null,
            "grid_auto_rows": null,
            "grid_column": null,
            "grid_gap": null,
            "grid_row": null,
            "grid_template_areas": null,
            "grid_template_columns": null,
            "grid_template_rows": null,
            "height": null,
            "justify_content": null,
            "justify_items": null,
            "left": null,
            "margin": null,
            "max_height": null,
            "max_width": null,
            "min_height": null,
            "min_width": null,
            "object_fit": null,
            "object_position": null,
            "order": null,
            "overflow": null,
            "overflow_x": null,
            "overflow_y": null,
            "padding": null,
            "right": null,
            "top": null,
            "visibility": null,
            "width": null
          }
        },
        "9514493443ef408eb0f5d810adc8a058": {
          "model_module": "@jupyter-widgets/controls",
          "model_name": "DescriptionStyleModel",
          "model_module_version": "1.5.0",
          "state": {
            "_model_module": "@jupyter-widgets/controls",
            "_model_module_version": "1.5.0",
            "_model_name": "DescriptionStyleModel",
            "_view_count": null,
            "_view_module": "@jupyter-widgets/base",
            "_view_module_version": "1.2.0",
            "_view_name": "StyleView",
            "description_width": ""
          }
        },
        "49dd455433a045279edbc7a291573649": {
          "model_module": "@jupyter-widgets/controls",
          "model_name": "HBoxModel",
          "model_module_version": "1.5.0",
          "state": {
            "_dom_classes": [],
            "_model_module": "@jupyter-widgets/controls",
            "_model_module_version": "1.5.0",
            "_model_name": "HBoxModel",
            "_view_count": null,
            "_view_module": "@jupyter-widgets/controls",
            "_view_module_version": "1.5.0",
            "_view_name": "HBoxView",
            "box_style": "",
            "children": [
              "IPY_MODEL_34fed9d6a9664f0ea7f49fe14429041a",
              "IPY_MODEL_12a4b8df78a34b9c8799539fa721bbb5",
              "IPY_MODEL_1403c6fee8334529a70fcc8127a3dbbf"
            ],
            "layout": "IPY_MODEL_f0d4fccd1dcc4979972ee85b26700812"
          }
        },
        "34fed9d6a9664f0ea7f49fe14429041a": {
          "model_module": "@jupyter-widgets/controls",
          "model_name": "HTMLModel",
          "model_module_version": "1.5.0",
          "state": {
            "_dom_classes": [],
            "_model_module": "@jupyter-widgets/controls",
            "_model_module_version": "1.5.0",
            "_model_name": "HTMLModel",
            "_view_count": null,
            "_view_module": "@jupyter-widgets/controls",
            "_view_module_version": "1.5.0",
            "_view_name": "HTMLView",
            "description": "",
            "description_tooltip": null,
            "layout": "IPY_MODEL_dbad80a591aa480ba775d3a7f281973d",
            "placeholder": "​",
            "style": "IPY_MODEL_0d6746ca3697489794289173fe738372",
            "value": "Generating test examples...: 100%"
          }
        },
        "12a4b8df78a34b9c8799539fa721bbb5": {
          "model_module": "@jupyter-widgets/controls",
          "model_name": "FloatProgressModel",
          "model_module_version": "1.5.0",
          "state": {
            "_dom_classes": [],
            "_model_module": "@jupyter-widgets/controls",
            "_model_module_version": "1.5.0",
            "_model_name": "FloatProgressModel",
            "_view_count": null,
            "_view_module": "@jupyter-widgets/controls",
            "_view_module_version": "1.5.0",
            "_view_name": "ProgressView",
            "bar_style": "",
            "description": "",
            "description_tooltip": null,
            "layout": "IPY_MODEL_9a301e9470004f36931d671f81ff1511",
            "max": 25000,
            "min": 0,
            "orientation": "horizontal",
            "style": "IPY_MODEL_bceb4a0db29846749c657dfd4f0e607b",
            "value": 25000
          }
        },
        "1403c6fee8334529a70fcc8127a3dbbf": {
          "model_module": "@jupyter-widgets/controls",
          "model_name": "HTMLModel",
          "model_module_version": "1.5.0",
          "state": {
            "_dom_classes": [],
            "_model_module": "@jupyter-widgets/controls",
            "_model_module_version": "1.5.0",
            "_model_name": "HTMLModel",
            "_view_count": null,
            "_view_module": "@jupyter-widgets/controls",
            "_view_module_version": "1.5.0",
            "_view_name": "HTMLView",
            "description": "",
            "description_tooltip": null,
            "layout": "IPY_MODEL_3ce97cb45d2d4e1dad672d91353b5cc4",
            "placeholder": "​",
            "style": "IPY_MODEL_b972632ca55f4e07b2183f5aca42b970",
            "value": " 24916/25000 [00:06&lt;00:00, 4856.24 examples/s]"
          }
        },
        "f0d4fccd1dcc4979972ee85b26700812": {
          "model_module": "@jupyter-widgets/base",
          "model_name": "LayoutModel",
          "model_module_version": "1.2.0",
          "state": {
            "_model_module": "@jupyter-widgets/base",
            "_model_module_version": "1.2.0",
            "_model_name": "LayoutModel",
            "_view_count": null,
            "_view_module": "@jupyter-widgets/base",
            "_view_module_version": "1.2.0",
            "_view_name": "LayoutView",
            "align_content": null,
            "align_items": null,
            "align_self": null,
            "border": null,
            "bottom": null,
            "display": null,
            "flex": null,
            "flex_flow": null,
            "grid_area": null,
            "grid_auto_columns": null,
            "grid_auto_flow": null,
            "grid_auto_rows": null,
            "grid_column": null,
            "grid_gap": null,
            "grid_row": null,
            "grid_template_areas": null,
            "grid_template_columns": null,
            "grid_template_rows": null,
            "height": null,
            "justify_content": null,
            "justify_items": null,
            "left": null,
            "margin": null,
            "max_height": null,
            "max_width": null,
            "min_height": null,
            "min_width": null,
            "object_fit": null,
            "object_position": null,
            "order": null,
            "overflow": null,
            "overflow_x": null,
            "overflow_y": null,
            "padding": null,
            "right": null,
            "top": null,
            "visibility": "hidden",
            "width": null
          }
        },
        "dbad80a591aa480ba775d3a7f281973d": {
          "model_module": "@jupyter-widgets/base",
          "model_name": "LayoutModel",
          "model_module_version": "1.2.0",
          "state": {
            "_model_module": "@jupyter-widgets/base",
            "_model_module_version": "1.2.0",
            "_model_name": "LayoutModel",
            "_view_count": null,
            "_view_module": "@jupyter-widgets/base",
            "_view_module_version": "1.2.0",
            "_view_name": "LayoutView",
            "align_content": null,
            "align_items": null,
            "align_self": null,
            "border": null,
            "bottom": null,
            "display": null,
            "flex": null,
            "flex_flow": null,
            "grid_area": null,
            "grid_auto_columns": null,
            "grid_auto_flow": null,
            "grid_auto_rows": null,
            "grid_column": null,
            "grid_gap": null,
            "grid_row": null,
            "grid_template_areas": null,
            "grid_template_columns": null,
            "grid_template_rows": null,
            "height": null,
            "justify_content": null,
            "justify_items": null,
            "left": null,
            "margin": null,
            "max_height": null,
            "max_width": null,
            "min_height": null,
            "min_width": null,
            "object_fit": null,
            "object_position": null,
            "order": null,
            "overflow": null,
            "overflow_x": null,
            "overflow_y": null,
            "padding": null,
            "right": null,
            "top": null,
            "visibility": null,
            "width": null
          }
        },
        "0d6746ca3697489794289173fe738372": {
          "model_module": "@jupyter-widgets/controls",
          "model_name": "DescriptionStyleModel",
          "model_module_version": "1.5.0",
          "state": {
            "_model_module": "@jupyter-widgets/controls",
            "_model_module_version": "1.5.0",
            "_model_name": "DescriptionStyleModel",
            "_view_count": null,
            "_view_module": "@jupyter-widgets/base",
            "_view_module_version": "1.2.0",
            "_view_name": "StyleView",
            "description_width": ""
          }
        },
        "9a301e9470004f36931d671f81ff1511": {
          "model_module": "@jupyter-widgets/base",
          "model_name": "LayoutModel",
          "model_module_version": "1.2.0",
          "state": {
            "_model_module": "@jupyter-widgets/base",
            "_model_module_version": "1.2.0",
            "_model_name": "LayoutModel",
            "_view_count": null,
            "_view_module": "@jupyter-widgets/base",
            "_view_module_version": "1.2.0",
            "_view_name": "LayoutView",
            "align_content": null,
            "align_items": null,
            "align_self": null,
            "border": null,
            "bottom": null,
            "display": null,
            "flex": null,
            "flex_flow": null,
            "grid_area": null,
            "grid_auto_columns": null,
            "grid_auto_flow": null,
            "grid_auto_rows": null,
            "grid_column": null,
            "grid_gap": null,
            "grid_row": null,
            "grid_template_areas": null,
            "grid_template_columns": null,
            "grid_template_rows": null,
            "height": null,
            "justify_content": null,
            "justify_items": null,
            "left": null,
            "margin": null,
            "max_height": null,
            "max_width": null,
            "min_height": null,
            "min_width": null,
            "object_fit": null,
            "object_position": null,
            "order": null,
            "overflow": null,
            "overflow_x": null,
            "overflow_y": null,
            "padding": null,
            "right": null,
            "top": null,
            "visibility": null,
            "width": null
          }
        },
        "bceb4a0db29846749c657dfd4f0e607b": {
          "model_module": "@jupyter-widgets/controls",
          "model_name": "ProgressStyleModel",
          "model_module_version": "1.5.0",
          "state": {
            "_model_module": "@jupyter-widgets/controls",
            "_model_module_version": "1.5.0",
            "_model_name": "ProgressStyleModel",
            "_view_count": null,
            "_view_module": "@jupyter-widgets/base",
            "_view_module_version": "1.2.0",
            "_view_name": "StyleView",
            "bar_color": null,
            "description_width": ""
          }
        },
        "3ce97cb45d2d4e1dad672d91353b5cc4": {
          "model_module": "@jupyter-widgets/base",
          "model_name": "LayoutModel",
          "model_module_version": "1.2.0",
          "state": {
            "_model_module": "@jupyter-widgets/base",
            "_model_module_version": "1.2.0",
            "_model_name": "LayoutModel",
            "_view_count": null,
            "_view_module": "@jupyter-widgets/base",
            "_view_module_version": "1.2.0",
            "_view_name": "LayoutView",
            "align_content": null,
            "align_items": null,
            "align_self": null,
            "border": null,
            "bottom": null,
            "display": null,
            "flex": null,
            "flex_flow": null,
            "grid_area": null,
            "grid_auto_columns": null,
            "grid_auto_flow": null,
            "grid_auto_rows": null,
            "grid_column": null,
            "grid_gap": null,
            "grid_row": null,
            "grid_template_areas": null,
            "grid_template_columns": null,
            "grid_template_rows": null,
            "height": null,
            "justify_content": null,
            "justify_items": null,
            "left": null,
            "margin": null,
            "max_height": null,
            "max_width": null,
            "min_height": null,
            "min_width": null,
            "object_fit": null,
            "object_position": null,
            "order": null,
            "overflow": null,
            "overflow_x": null,
            "overflow_y": null,
            "padding": null,
            "right": null,
            "top": null,
            "visibility": null,
            "width": null
          }
        },
        "b972632ca55f4e07b2183f5aca42b970": {
          "model_module": "@jupyter-widgets/controls",
          "model_name": "DescriptionStyleModel",
          "model_module_version": "1.5.0",
          "state": {
            "_model_module": "@jupyter-widgets/controls",
            "_model_module_version": "1.5.0",
            "_model_name": "DescriptionStyleModel",
            "_view_count": null,
            "_view_module": "@jupyter-widgets/base",
            "_view_module_version": "1.2.0",
            "_view_name": "StyleView",
            "description_width": ""
          }
        },
        "024896c81c4c4600b04500b9c172fe5d": {
          "model_module": "@jupyter-widgets/controls",
          "model_name": "HBoxModel",
          "model_module_version": "1.5.0",
          "state": {
            "_dom_classes": [],
            "_model_module": "@jupyter-widgets/controls",
            "_model_module_version": "1.5.0",
            "_model_name": "HBoxModel",
            "_view_count": null,
            "_view_module": "@jupyter-widgets/controls",
            "_view_module_version": "1.5.0",
            "_view_name": "HBoxView",
            "box_style": "",
            "children": [
              "IPY_MODEL_24d0f97c95e54e1fac3ae0724370e388",
              "IPY_MODEL_eaee472b21aa4533b0a819bd305ae3c7",
              "IPY_MODEL_c2305a4839424bca9673afaa8eb634d7"
            ],
            "layout": "IPY_MODEL_f5209804a62b4aad896090b8c25232d2"
          }
        },
        "24d0f97c95e54e1fac3ae0724370e388": {
          "model_module": "@jupyter-widgets/controls",
          "model_name": "HTMLModel",
          "model_module_version": "1.5.0",
          "state": {
            "_dom_classes": [],
            "_model_module": "@jupyter-widgets/controls",
            "_model_module_version": "1.5.0",
            "_model_name": "HTMLModel",
            "_view_count": null,
            "_view_module": "@jupyter-widgets/controls",
            "_view_module_version": "1.5.0",
            "_view_name": "HTMLView",
            "description": "",
            "description_tooltip": null,
            "layout": "IPY_MODEL_035ee4c723304829ae7a5a070b81ddc7",
            "placeholder": "​",
            "style": "IPY_MODEL_d5cac3b591ea4f4b9e99e347595c61a2",
            "value": "Shuffling ~/tensorflow_datasets/imdb_reviews/plain_text/1.0.0.incompleteAPT13Z/imdb_reviews-test.tfrecord*...:  36%"
          }
        },
        "eaee472b21aa4533b0a819bd305ae3c7": {
          "model_module": "@jupyter-widgets/controls",
          "model_name": "FloatProgressModel",
          "model_module_version": "1.5.0",
          "state": {
            "_dom_classes": [],
            "_model_module": "@jupyter-widgets/controls",
            "_model_module_version": "1.5.0",
            "_model_name": "FloatProgressModel",
            "_view_count": null,
            "_view_module": "@jupyter-widgets/controls",
            "_view_module_version": "1.5.0",
            "_view_name": "ProgressView",
            "bar_style": "",
            "description": "",
            "description_tooltip": null,
            "layout": "IPY_MODEL_5ecbc830c5fb4c83999f020773393576",
            "max": 25000,
            "min": 0,
            "orientation": "horizontal",
            "style": "IPY_MODEL_b4384442af6344d1879df59213d399f2",
            "value": 25000
          }
        },
        "c2305a4839424bca9673afaa8eb634d7": {
          "model_module": "@jupyter-widgets/controls",
          "model_name": "HTMLModel",
          "model_module_version": "1.5.0",
          "state": {
            "_dom_classes": [],
            "_model_module": "@jupyter-widgets/controls",
            "_model_module_version": "1.5.0",
            "_model_name": "HTMLModel",
            "_view_count": null,
            "_view_module": "@jupyter-widgets/controls",
            "_view_module_version": "1.5.0",
            "_view_name": "HTMLView",
            "description": "",
            "description_tooltip": null,
            "layout": "IPY_MODEL_9a24cbb563e34a72a123cbb2540d3a4e",
            "placeholder": "​",
            "style": "IPY_MODEL_1d780107559a4370873dc260915733b5",
            "value": " 9110/25000 [00:00&lt;00:00, 91086.62 examples/s]"
          }
        },
        "f5209804a62b4aad896090b8c25232d2": {
          "model_module": "@jupyter-widgets/base",
          "model_name": "LayoutModel",
          "model_module_version": "1.2.0",
          "state": {
            "_model_module": "@jupyter-widgets/base",
            "_model_module_version": "1.2.0",
            "_model_name": "LayoutModel",
            "_view_count": null,
            "_view_module": "@jupyter-widgets/base",
            "_view_module_version": "1.2.0",
            "_view_name": "LayoutView",
            "align_content": null,
            "align_items": null,
            "align_self": null,
            "border": null,
            "bottom": null,
            "display": null,
            "flex": null,
            "flex_flow": null,
            "grid_area": null,
            "grid_auto_columns": null,
            "grid_auto_flow": null,
            "grid_auto_rows": null,
            "grid_column": null,
            "grid_gap": null,
            "grid_row": null,
            "grid_template_areas": null,
            "grid_template_columns": null,
            "grid_template_rows": null,
            "height": null,
            "justify_content": null,
            "justify_items": null,
            "left": null,
            "margin": null,
            "max_height": null,
            "max_width": null,
            "min_height": null,
            "min_width": null,
            "object_fit": null,
            "object_position": null,
            "order": null,
            "overflow": null,
            "overflow_x": null,
            "overflow_y": null,
            "padding": null,
            "right": null,
            "top": null,
            "visibility": "hidden",
            "width": null
          }
        },
        "035ee4c723304829ae7a5a070b81ddc7": {
          "model_module": "@jupyter-widgets/base",
          "model_name": "LayoutModel",
          "model_module_version": "1.2.0",
          "state": {
            "_model_module": "@jupyter-widgets/base",
            "_model_module_version": "1.2.0",
            "_model_name": "LayoutModel",
            "_view_count": null,
            "_view_module": "@jupyter-widgets/base",
            "_view_module_version": "1.2.0",
            "_view_name": "LayoutView",
            "align_content": null,
            "align_items": null,
            "align_self": null,
            "border": null,
            "bottom": null,
            "display": null,
            "flex": null,
            "flex_flow": null,
            "grid_area": null,
            "grid_auto_columns": null,
            "grid_auto_flow": null,
            "grid_auto_rows": null,
            "grid_column": null,
            "grid_gap": null,
            "grid_row": null,
            "grid_template_areas": null,
            "grid_template_columns": null,
            "grid_template_rows": null,
            "height": null,
            "justify_content": null,
            "justify_items": null,
            "left": null,
            "margin": null,
            "max_height": null,
            "max_width": null,
            "min_height": null,
            "min_width": null,
            "object_fit": null,
            "object_position": null,
            "order": null,
            "overflow": null,
            "overflow_x": null,
            "overflow_y": null,
            "padding": null,
            "right": null,
            "top": null,
            "visibility": null,
            "width": null
          }
        },
        "d5cac3b591ea4f4b9e99e347595c61a2": {
          "model_module": "@jupyter-widgets/controls",
          "model_name": "DescriptionStyleModel",
          "model_module_version": "1.5.0",
          "state": {
            "_model_module": "@jupyter-widgets/controls",
            "_model_module_version": "1.5.0",
            "_model_name": "DescriptionStyleModel",
            "_view_count": null,
            "_view_module": "@jupyter-widgets/base",
            "_view_module_version": "1.2.0",
            "_view_name": "StyleView",
            "description_width": ""
          }
        },
        "5ecbc830c5fb4c83999f020773393576": {
          "model_module": "@jupyter-widgets/base",
          "model_name": "LayoutModel",
          "model_module_version": "1.2.0",
          "state": {
            "_model_module": "@jupyter-widgets/base",
            "_model_module_version": "1.2.0",
            "_model_name": "LayoutModel",
            "_view_count": null,
            "_view_module": "@jupyter-widgets/base",
            "_view_module_version": "1.2.0",
            "_view_name": "LayoutView",
            "align_content": null,
            "align_items": null,
            "align_self": null,
            "border": null,
            "bottom": null,
            "display": null,
            "flex": null,
            "flex_flow": null,
            "grid_area": null,
            "grid_auto_columns": null,
            "grid_auto_flow": null,
            "grid_auto_rows": null,
            "grid_column": null,
            "grid_gap": null,
            "grid_row": null,
            "grid_template_areas": null,
            "grid_template_columns": null,
            "grid_template_rows": null,
            "height": null,
            "justify_content": null,
            "justify_items": null,
            "left": null,
            "margin": null,
            "max_height": null,
            "max_width": null,
            "min_height": null,
            "min_width": null,
            "object_fit": null,
            "object_position": null,
            "order": null,
            "overflow": null,
            "overflow_x": null,
            "overflow_y": null,
            "padding": null,
            "right": null,
            "top": null,
            "visibility": null,
            "width": null
          }
        },
        "b4384442af6344d1879df59213d399f2": {
          "model_module": "@jupyter-widgets/controls",
          "model_name": "ProgressStyleModel",
          "model_module_version": "1.5.0",
          "state": {
            "_model_module": "@jupyter-widgets/controls",
            "_model_module_version": "1.5.0",
            "_model_name": "ProgressStyleModel",
            "_view_count": null,
            "_view_module": "@jupyter-widgets/base",
            "_view_module_version": "1.2.0",
            "_view_name": "StyleView",
            "bar_color": null,
            "description_width": ""
          }
        },
        "9a24cbb563e34a72a123cbb2540d3a4e": {
          "model_module": "@jupyter-widgets/base",
          "model_name": "LayoutModel",
          "model_module_version": "1.2.0",
          "state": {
            "_model_module": "@jupyter-widgets/base",
            "_model_module_version": "1.2.0",
            "_model_name": "LayoutModel",
            "_view_count": null,
            "_view_module": "@jupyter-widgets/base",
            "_view_module_version": "1.2.0",
            "_view_name": "LayoutView",
            "align_content": null,
            "align_items": null,
            "align_self": null,
            "border": null,
            "bottom": null,
            "display": null,
            "flex": null,
            "flex_flow": null,
            "grid_area": null,
            "grid_auto_columns": null,
            "grid_auto_flow": null,
            "grid_auto_rows": null,
            "grid_column": null,
            "grid_gap": null,
            "grid_row": null,
            "grid_template_areas": null,
            "grid_template_columns": null,
            "grid_template_rows": null,
            "height": null,
            "justify_content": null,
            "justify_items": null,
            "left": null,
            "margin": null,
            "max_height": null,
            "max_width": null,
            "min_height": null,
            "min_width": null,
            "object_fit": null,
            "object_position": null,
            "order": null,
            "overflow": null,
            "overflow_x": null,
            "overflow_y": null,
            "padding": null,
            "right": null,
            "top": null,
            "visibility": null,
            "width": null
          }
        },
        "1d780107559a4370873dc260915733b5": {
          "model_module": "@jupyter-widgets/controls",
          "model_name": "DescriptionStyleModel",
          "model_module_version": "1.5.0",
          "state": {
            "_model_module": "@jupyter-widgets/controls",
            "_model_module_version": "1.5.0",
            "_model_name": "DescriptionStyleModel",
            "_view_count": null,
            "_view_module": "@jupyter-widgets/base",
            "_view_module_version": "1.2.0",
            "_view_name": "StyleView",
            "description_width": ""
          }
        },
        "a8a62223f159404ab4082adaee0d7057": {
          "model_module": "@jupyter-widgets/controls",
          "model_name": "HBoxModel",
          "model_module_version": "1.5.0",
          "state": {
            "_dom_classes": [],
            "_model_module": "@jupyter-widgets/controls",
            "_model_module_version": "1.5.0",
            "_model_name": "HBoxModel",
            "_view_count": null,
            "_view_module": "@jupyter-widgets/controls",
            "_view_module_version": "1.5.0",
            "_view_name": "HBoxView",
            "box_style": "",
            "children": [
              "IPY_MODEL_afc7c1fbcbd54fd19514ef73fbf6a5de",
              "IPY_MODEL_bc944b2c1c944244b56ffe40f732e2dc",
              "IPY_MODEL_48b2f3cc32384b33af1aa60230a91fbe"
            ],
            "layout": "IPY_MODEL_33a1fe88f8fd42fe8a19f9968103644f"
          }
        },
        "afc7c1fbcbd54fd19514ef73fbf6a5de": {
          "model_module": "@jupyter-widgets/controls",
          "model_name": "HTMLModel",
          "model_module_version": "1.5.0",
          "state": {
            "_dom_classes": [],
            "_model_module": "@jupyter-widgets/controls",
            "_model_module_version": "1.5.0",
            "_model_name": "HTMLModel",
            "_view_count": null,
            "_view_module": "@jupyter-widgets/controls",
            "_view_module_version": "1.5.0",
            "_view_name": "HTMLView",
            "description": "",
            "description_tooltip": null,
            "layout": "IPY_MODEL_1b8619a2ae7243dbb761f64422ace02f",
            "placeholder": "​",
            "style": "IPY_MODEL_622e1407c9c64bb1a21dc8d651edc64f",
            "value": "Generating unsupervised examples...:  99%"
          }
        },
        "bc944b2c1c944244b56ffe40f732e2dc": {
          "model_module": "@jupyter-widgets/controls",
          "model_name": "FloatProgressModel",
          "model_module_version": "1.5.0",
          "state": {
            "_dom_classes": [],
            "_model_module": "@jupyter-widgets/controls",
            "_model_module_version": "1.5.0",
            "_model_name": "FloatProgressModel",
            "_view_count": null,
            "_view_module": "@jupyter-widgets/controls",
            "_view_module_version": "1.5.0",
            "_view_name": "ProgressView",
            "bar_style": "",
            "description": "",
            "description_tooltip": null,
            "layout": "IPY_MODEL_f7dd21fd9ee545ec910ef97d32faa5c2",
            "max": 50000,
            "min": 0,
            "orientation": "horizontal",
            "style": "IPY_MODEL_e8cfcac305ba4b45b23e4223c4efb62b",
            "value": 50000
          }
        },
        "48b2f3cc32384b33af1aa60230a91fbe": {
          "model_module": "@jupyter-widgets/controls",
          "model_name": "HTMLModel",
          "model_module_version": "1.5.0",
          "state": {
            "_dom_classes": [],
            "_model_module": "@jupyter-widgets/controls",
            "_model_module_version": "1.5.0",
            "_model_name": "HTMLModel",
            "_view_count": null,
            "_view_module": "@jupyter-widgets/controls",
            "_view_module_version": "1.5.0",
            "_view_name": "HTMLView",
            "description": "",
            "description_tooltip": null,
            "layout": "IPY_MODEL_efd3df8648e6444d81899059e050779a",
            "placeholder": "​",
            "style": "IPY_MODEL_6d2462106f2c4b64ab36c9469d453f56",
            "value": " 49553/50000 [00:14&lt;00:00, 4638.74 examples/s]"
          }
        },
        "33a1fe88f8fd42fe8a19f9968103644f": {
          "model_module": "@jupyter-widgets/base",
          "model_name": "LayoutModel",
          "model_module_version": "1.2.0",
          "state": {
            "_model_module": "@jupyter-widgets/base",
            "_model_module_version": "1.2.0",
            "_model_name": "LayoutModel",
            "_view_count": null,
            "_view_module": "@jupyter-widgets/base",
            "_view_module_version": "1.2.0",
            "_view_name": "LayoutView",
            "align_content": null,
            "align_items": null,
            "align_self": null,
            "border": null,
            "bottom": null,
            "display": null,
            "flex": null,
            "flex_flow": null,
            "grid_area": null,
            "grid_auto_columns": null,
            "grid_auto_flow": null,
            "grid_auto_rows": null,
            "grid_column": null,
            "grid_gap": null,
            "grid_row": null,
            "grid_template_areas": null,
            "grid_template_columns": null,
            "grid_template_rows": null,
            "height": null,
            "justify_content": null,
            "justify_items": null,
            "left": null,
            "margin": null,
            "max_height": null,
            "max_width": null,
            "min_height": null,
            "min_width": null,
            "object_fit": null,
            "object_position": null,
            "order": null,
            "overflow": null,
            "overflow_x": null,
            "overflow_y": null,
            "padding": null,
            "right": null,
            "top": null,
            "visibility": "hidden",
            "width": null
          }
        },
        "1b8619a2ae7243dbb761f64422ace02f": {
          "model_module": "@jupyter-widgets/base",
          "model_name": "LayoutModel",
          "model_module_version": "1.2.0",
          "state": {
            "_model_module": "@jupyter-widgets/base",
            "_model_module_version": "1.2.0",
            "_model_name": "LayoutModel",
            "_view_count": null,
            "_view_module": "@jupyter-widgets/base",
            "_view_module_version": "1.2.0",
            "_view_name": "LayoutView",
            "align_content": null,
            "align_items": null,
            "align_self": null,
            "border": null,
            "bottom": null,
            "display": null,
            "flex": null,
            "flex_flow": null,
            "grid_area": null,
            "grid_auto_columns": null,
            "grid_auto_flow": null,
            "grid_auto_rows": null,
            "grid_column": null,
            "grid_gap": null,
            "grid_row": null,
            "grid_template_areas": null,
            "grid_template_columns": null,
            "grid_template_rows": null,
            "height": null,
            "justify_content": null,
            "justify_items": null,
            "left": null,
            "margin": null,
            "max_height": null,
            "max_width": null,
            "min_height": null,
            "min_width": null,
            "object_fit": null,
            "object_position": null,
            "order": null,
            "overflow": null,
            "overflow_x": null,
            "overflow_y": null,
            "padding": null,
            "right": null,
            "top": null,
            "visibility": null,
            "width": null
          }
        },
        "622e1407c9c64bb1a21dc8d651edc64f": {
          "model_module": "@jupyter-widgets/controls",
          "model_name": "DescriptionStyleModel",
          "model_module_version": "1.5.0",
          "state": {
            "_model_module": "@jupyter-widgets/controls",
            "_model_module_version": "1.5.0",
            "_model_name": "DescriptionStyleModel",
            "_view_count": null,
            "_view_module": "@jupyter-widgets/base",
            "_view_module_version": "1.2.0",
            "_view_name": "StyleView",
            "description_width": ""
          }
        },
        "f7dd21fd9ee545ec910ef97d32faa5c2": {
          "model_module": "@jupyter-widgets/base",
          "model_name": "LayoutModel",
          "model_module_version": "1.2.0",
          "state": {
            "_model_module": "@jupyter-widgets/base",
            "_model_module_version": "1.2.0",
            "_model_name": "LayoutModel",
            "_view_count": null,
            "_view_module": "@jupyter-widgets/base",
            "_view_module_version": "1.2.0",
            "_view_name": "LayoutView",
            "align_content": null,
            "align_items": null,
            "align_self": null,
            "border": null,
            "bottom": null,
            "display": null,
            "flex": null,
            "flex_flow": null,
            "grid_area": null,
            "grid_auto_columns": null,
            "grid_auto_flow": null,
            "grid_auto_rows": null,
            "grid_column": null,
            "grid_gap": null,
            "grid_row": null,
            "grid_template_areas": null,
            "grid_template_columns": null,
            "grid_template_rows": null,
            "height": null,
            "justify_content": null,
            "justify_items": null,
            "left": null,
            "margin": null,
            "max_height": null,
            "max_width": null,
            "min_height": null,
            "min_width": null,
            "object_fit": null,
            "object_position": null,
            "order": null,
            "overflow": null,
            "overflow_x": null,
            "overflow_y": null,
            "padding": null,
            "right": null,
            "top": null,
            "visibility": null,
            "width": null
          }
        },
        "e8cfcac305ba4b45b23e4223c4efb62b": {
          "model_module": "@jupyter-widgets/controls",
          "model_name": "ProgressStyleModel",
          "model_module_version": "1.5.0",
          "state": {
            "_model_module": "@jupyter-widgets/controls",
            "_model_module_version": "1.5.0",
            "_model_name": "ProgressStyleModel",
            "_view_count": null,
            "_view_module": "@jupyter-widgets/base",
            "_view_module_version": "1.2.0",
            "_view_name": "StyleView",
            "bar_color": null,
            "description_width": ""
          }
        },
        "efd3df8648e6444d81899059e050779a": {
          "model_module": "@jupyter-widgets/base",
          "model_name": "LayoutModel",
          "model_module_version": "1.2.0",
          "state": {
            "_model_module": "@jupyter-widgets/base",
            "_model_module_version": "1.2.0",
            "_model_name": "LayoutModel",
            "_view_count": null,
            "_view_module": "@jupyter-widgets/base",
            "_view_module_version": "1.2.0",
            "_view_name": "LayoutView",
            "align_content": null,
            "align_items": null,
            "align_self": null,
            "border": null,
            "bottom": null,
            "display": null,
            "flex": null,
            "flex_flow": null,
            "grid_area": null,
            "grid_auto_columns": null,
            "grid_auto_flow": null,
            "grid_auto_rows": null,
            "grid_column": null,
            "grid_gap": null,
            "grid_row": null,
            "grid_template_areas": null,
            "grid_template_columns": null,
            "grid_template_rows": null,
            "height": null,
            "justify_content": null,
            "justify_items": null,
            "left": null,
            "margin": null,
            "max_height": null,
            "max_width": null,
            "min_height": null,
            "min_width": null,
            "object_fit": null,
            "object_position": null,
            "order": null,
            "overflow": null,
            "overflow_x": null,
            "overflow_y": null,
            "padding": null,
            "right": null,
            "top": null,
            "visibility": null,
            "width": null
          }
        },
        "6d2462106f2c4b64ab36c9469d453f56": {
          "model_module": "@jupyter-widgets/controls",
          "model_name": "DescriptionStyleModel",
          "model_module_version": "1.5.0",
          "state": {
            "_model_module": "@jupyter-widgets/controls",
            "_model_module_version": "1.5.0",
            "_model_name": "DescriptionStyleModel",
            "_view_count": null,
            "_view_module": "@jupyter-widgets/base",
            "_view_module_version": "1.2.0",
            "_view_name": "StyleView",
            "description_width": ""
          }
        },
        "bf5f6d25552f488e8bc47aed023928f5": {
          "model_module": "@jupyter-widgets/controls",
          "model_name": "HBoxModel",
          "model_module_version": "1.5.0",
          "state": {
            "_dom_classes": [],
            "_model_module": "@jupyter-widgets/controls",
            "_model_module_version": "1.5.0",
            "_model_name": "HBoxModel",
            "_view_count": null,
            "_view_module": "@jupyter-widgets/controls",
            "_view_module_version": "1.5.0",
            "_view_name": "HBoxView",
            "box_style": "",
            "children": [
              "IPY_MODEL_92c0514a85eb45c283a3533a9ba3fa2d",
              "IPY_MODEL_88a53d8533f44c88885b732b4f550b11",
              "IPY_MODEL_a08c534dbd03465aa771b0e886e786b2"
            ],
            "layout": "IPY_MODEL_716a5250a1ed4157864718b218784eac"
          }
        },
        "92c0514a85eb45c283a3533a9ba3fa2d": {
          "model_module": "@jupyter-widgets/controls",
          "model_name": "HTMLModel",
          "model_module_version": "1.5.0",
          "state": {
            "_dom_classes": [],
            "_model_module": "@jupyter-widgets/controls",
            "_model_module_version": "1.5.0",
            "_model_name": "HTMLModel",
            "_view_count": null,
            "_view_module": "@jupyter-widgets/controls",
            "_view_module_version": "1.5.0",
            "_view_name": "HTMLView",
            "description": "",
            "description_tooltip": null,
            "layout": "IPY_MODEL_612323c06c0a4e5098f78b203e0196e2",
            "placeholder": "​",
            "style": "IPY_MODEL_73c5d63019fe487a8c57f2294bd6c791",
            "value": "Shuffling ~/tensorflow_datasets/imdb_reviews/plain_text/1.0.0.incompleteAPT13Z/imdb_reviews-unsupervised.tfrecord*...:  88%"
          }
        },
        "88a53d8533f44c88885b732b4f550b11": {
          "model_module": "@jupyter-widgets/controls",
          "model_name": "FloatProgressModel",
          "model_module_version": "1.5.0",
          "state": {
            "_dom_classes": [],
            "_model_module": "@jupyter-widgets/controls",
            "_model_module_version": "1.5.0",
            "_model_name": "FloatProgressModel",
            "_view_count": null,
            "_view_module": "@jupyter-widgets/controls",
            "_view_module_version": "1.5.0",
            "_view_name": "ProgressView",
            "bar_style": "",
            "description": "",
            "description_tooltip": null,
            "layout": "IPY_MODEL_a12fc1bfdd884ec28b931784a39903c4",
            "max": 50000,
            "min": 0,
            "orientation": "horizontal",
            "style": "IPY_MODEL_b46906536ef6437da95d4c9b191342eb",
            "value": 50000
          }
        },
        "a08c534dbd03465aa771b0e886e786b2": {
          "model_module": "@jupyter-widgets/controls",
          "model_name": "HTMLModel",
          "model_module_version": "1.5.0",
          "state": {
            "_dom_classes": [],
            "_model_module": "@jupyter-widgets/controls",
            "_model_module_version": "1.5.0",
            "_model_name": "HTMLModel",
            "_view_count": null,
            "_view_module": "@jupyter-widgets/controls",
            "_view_module_version": "1.5.0",
            "_view_name": "HTMLView",
            "description": "",
            "description_tooltip": null,
            "layout": "IPY_MODEL_7b5df2ef9eb64b95923347cec4a04e5a",
            "placeholder": "​",
            "style": "IPY_MODEL_3f1607411fc54378a6f60e30f146f680",
            "value": " 44209/50000 [00:00&lt;00:00, 170325.98 examples/s]"
          }
        },
        "716a5250a1ed4157864718b218784eac": {
          "model_module": "@jupyter-widgets/base",
          "model_name": "LayoutModel",
          "model_module_version": "1.2.0",
          "state": {
            "_model_module": "@jupyter-widgets/base",
            "_model_module_version": "1.2.0",
            "_model_name": "LayoutModel",
            "_view_count": null,
            "_view_module": "@jupyter-widgets/base",
            "_view_module_version": "1.2.0",
            "_view_name": "LayoutView",
            "align_content": null,
            "align_items": null,
            "align_self": null,
            "border": null,
            "bottom": null,
            "display": null,
            "flex": null,
            "flex_flow": null,
            "grid_area": null,
            "grid_auto_columns": null,
            "grid_auto_flow": null,
            "grid_auto_rows": null,
            "grid_column": null,
            "grid_gap": null,
            "grid_row": null,
            "grid_template_areas": null,
            "grid_template_columns": null,
            "grid_template_rows": null,
            "height": null,
            "justify_content": null,
            "justify_items": null,
            "left": null,
            "margin": null,
            "max_height": null,
            "max_width": null,
            "min_height": null,
            "min_width": null,
            "object_fit": null,
            "object_position": null,
            "order": null,
            "overflow": null,
            "overflow_x": null,
            "overflow_y": null,
            "padding": null,
            "right": null,
            "top": null,
            "visibility": "hidden",
            "width": null
          }
        },
        "612323c06c0a4e5098f78b203e0196e2": {
          "model_module": "@jupyter-widgets/base",
          "model_name": "LayoutModel",
          "model_module_version": "1.2.0",
          "state": {
            "_model_module": "@jupyter-widgets/base",
            "_model_module_version": "1.2.0",
            "_model_name": "LayoutModel",
            "_view_count": null,
            "_view_module": "@jupyter-widgets/base",
            "_view_module_version": "1.2.0",
            "_view_name": "LayoutView",
            "align_content": null,
            "align_items": null,
            "align_self": null,
            "border": null,
            "bottom": null,
            "display": null,
            "flex": null,
            "flex_flow": null,
            "grid_area": null,
            "grid_auto_columns": null,
            "grid_auto_flow": null,
            "grid_auto_rows": null,
            "grid_column": null,
            "grid_gap": null,
            "grid_row": null,
            "grid_template_areas": null,
            "grid_template_columns": null,
            "grid_template_rows": null,
            "height": null,
            "justify_content": null,
            "justify_items": null,
            "left": null,
            "margin": null,
            "max_height": null,
            "max_width": null,
            "min_height": null,
            "min_width": null,
            "object_fit": null,
            "object_position": null,
            "order": null,
            "overflow": null,
            "overflow_x": null,
            "overflow_y": null,
            "padding": null,
            "right": null,
            "top": null,
            "visibility": null,
            "width": null
          }
        },
        "73c5d63019fe487a8c57f2294bd6c791": {
          "model_module": "@jupyter-widgets/controls",
          "model_name": "DescriptionStyleModel",
          "model_module_version": "1.5.0",
          "state": {
            "_model_module": "@jupyter-widgets/controls",
            "_model_module_version": "1.5.0",
            "_model_name": "DescriptionStyleModel",
            "_view_count": null,
            "_view_module": "@jupyter-widgets/base",
            "_view_module_version": "1.2.0",
            "_view_name": "StyleView",
            "description_width": ""
          }
        },
        "a12fc1bfdd884ec28b931784a39903c4": {
          "model_module": "@jupyter-widgets/base",
          "model_name": "LayoutModel",
          "model_module_version": "1.2.0",
          "state": {
            "_model_module": "@jupyter-widgets/base",
            "_model_module_version": "1.2.0",
            "_model_name": "LayoutModel",
            "_view_count": null,
            "_view_module": "@jupyter-widgets/base",
            "_view_module_version": "1.2.0",
            "_view_name": "LayoutView",
            "align_content": null,
            "align_items": null,
            "align_self": null,
            "border": null,
            "bottom": null,
            "display": null,
            "flex": null,
            "flex_flow": null,
            "grid_area": null,
            "grid_auto_columns": null,
            "grid_auto_flow": null,
            "grid_auto_rows": null,
            "grid_column": null,
            "grid_gap": null,
            "grid_row": null,
            "grid_template_areas": null,
            "grid_template_columns": null,
            "grid_template_rows": null,
            "height": null,
            "justify_content": null,
            "justify_items": null,
            "left": null,
            "margin": null,
            "max_height": null,
            "max_width": null,
            "min_height": null,
            "min_width": null,
            "object_fit": null,
            "object_position": null,
            "order": null,
            "overflow": null,
            "overflow_x": null,
            "overflow_y": null,
            "padding": null,
            "right": null,
            "top": null,
            "visibility": null,
            "width": null
          }
        },
        "b46906536ef6437da95d4c9b191342eb": {
          "model_module": "@jupyter-widgets/controls",
          "model_name": "ProgressStyleModel",
          "model_module_version": "1.5.0",
          "state": {
            "_model_module": "@jupyter-widgets/controls",
            "_model_module_version": "1.5.0",
            "_model_name": "ProgressStyleModel",
            "_view_count": null,
            "_view_module": "@jupyter-widgets/base",
            "_view_module_version": "1.2.0",
            "_view_name": "StyleView",
            "bar_color": null,
            "description_width": ""
          }
        },
        "7b5df2ef9eb64b95923347cec4a04e5a": {
          "model_module": "@jupyter-widgets/base",
          "model_name": "LayoutModel",
          "model_module_version": "1.2.0",
          "state": {
            "_model_module": "@jupyter-widgets/base",
            "_model_module_version": "1.2.0",
            "_model_name": "LayoutModel",
            "_view_count": null,
            "_view_module": "@jupyter-widgets/base",
            "_view_module_version": "1.2.0",
            "_view_name": "LayoutView",
            "align_content": null,
            "align_items": null,
            "align_self": null,
            "border": null,
            "bottom": null,
            "display": null,
            "flex": null,
            "flex_flow": null,
            "grid_area": null,
            "grid_auto_columns": null,
            "grid_auto_flow": null,
            "grid_auto_rows": null,
            "grid_column": null,
            "grid_gap": null,
            "grid_row": null,
            "grid_template_areas": null,
            "grid_template_columns": null,
            "grid_template_rows": null,
            "height": null,
            "justify_content": null,
            "justify_items": null,
            "left": null,
            "margin": null,
            "max_height": null,
            "max_width": null,
            "min_height": null,
            "min_width": null,
            "object_fit": null,
            "object_position": null,
            "order": null,
            "overflow": null,
            "overflow_x": null,
            "overflow_y": null,
            "padding": null,
            "right": null,
            "top": null,
            "visibility": null,
            "width": null
          }
        },
        "3f1607411fc54378a6f60e30f146f680": {
          "model_module": "@jupyter-widgets/controls",
          "model_name": "DescriptionStyleModel",
          "model_module_version": "1.5.0",
          "state": {
            "_model_module": "@jupyter-widgets/controls",
            "_model_module_version": "1.5.0",
            "_model_name": "DescriptionStyleModel",
            "_view_count": null,
            "_view_module": "@jupyter-widgets/base",
            "_view_module_version": "1.2.0",
            "_view_name": "StyleView",
            "description_width": ""
          }
        }
      }
    }
  },
  "nbformat": 4,
  "nbformat_minor": 0
}