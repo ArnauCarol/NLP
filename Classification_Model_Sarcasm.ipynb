{
  "nbformat": 4,
  "nbformat_minor": 0,
  "metadata": {
    "colab": {
      "provenance": [],
      "collapsed_sections": []
    },
    "kernelspec": {
      "name": "python3",
      "display_name": "Python 3"
    },
    "language_info": {
      "name": "python"
    },
    "accelerator": "GPU",
    "gpuClass": "standard"
  },
  "cells": [
    {
      "cell_type": "markdown",
      "source": [
        "# **NLP Classification model SARCASM**\n",
        "### Use of NLP techniques for the classification of sarcastic sentences"
      ],
      "metadata": {
        "id": "FE03rzRzeQ5e"
      }
    },
    {
      "cell_type": "code",
      "execution_count": null,
      "metadata": {
        "id": "FmjLDd-beOXJ"
      },
      "outputs": [],
      "source": [
        "# Libraries\n",
        "import tensorflow as tf\n",
        "from tensorflow import keras\n",
        "from tensorflow.keras.preprocessing.text import Tokenizer\n",
        "from tensorflow.keras.preprocessing.sequence import pad_sequences\n",
        "import matplotlib.pyplot as plt\n",
        "import numpy as np\n",
        "import json\n"
      ]
    },
    {
      "cell_type": "code",
      "source": [
        "# Set Parameters\n",
        "vocab_size = 2000\n",
        "embedding_dim = 150\n",
        "max_length = 100\n",
        "trunc_type='post'\n",
        "padding_type='post'\n",
        "oov_tok = \"<OOV>\"\n",
        "training_size = 20000\n"
      ],
      "metadata": {
        "id": "8PRu9RGZxT3h"
      },
      "execution_count": null,
      "outputs": []
    },
    {
      "cell_type": "code",
      "source": [
        "# Corpus\n",
        "!wget --no-check-certificate \\\n",
        "    https://storage.googleapis.com/laurencemoroney-blog.appspot.com/sarcasm.json \\\n",
        "    -O /tmp/sarcasm.json"
      ],
      "metadata": {
        "colab": {
          "base_uri": "https://localhost:8080/"
        },
        "id": "4sHGszuUxVdd",
        "outputId": "7f2a6dd9-09ae-4358-dd1a-20a7702dfb95"
      },
      "execution_count": null,
      "outputs": [
        {
          "output_type": "stream",
          "name": "stdout",
          "text": [
            "--2022-10-03 13:40:50--  https://storage.googleapis.com/laurencemoroney-blog.appspot.com/sarcasm.json\n",
            "Resolving storage.googleapis.com (storage.googleapis.com)... 74.125.24.128, 172.217.194.128, 142.251.10.128, ...\n",
            "Connecting to storage.googleapis.com (storage.googleapis.com)|74.125.24.128|:443... connected.\n",
            "HTTP request sent, awaiting response... 200 OK\n",
            "Length: 5643545 (5.4M) [application/json]\n",
            "Saving to: ‘/tmp/sarcasm.json’\n",
            "\n",
            "/tmp/sarcasm.json   100%[===================>]   5.38M  --.-KB/s    in 0.03s   \n",
            "\n",
            "2022-10-03 13:40:50 (180 MB/s) - ‘/tmp/sarcasm.json’ saved [5643545/5643545]\n",
            "\n"
          ]
        }
      ]
    },
    {
      "cell_type": "code",
      "source": [
        "with open(\"/tmp/sarcasm.json\", 'r') as f:\n",
        "    datastore = json.load(f)\n",
        "\n",
        "sentences = []\n",
        "labels = []\n",
        "\n",
        "for item in datastore:\n",
        "    sentences.append(item['headline'])\n",
        "    labels.append(item['is_sarcastic'])"
      ],
      "metadata": {
        "id": "CmNh21QcxeDr"
      },
      "execution_count": null,
      "outputs": []
    },
    {
      "cell_type": "code",
      "source": [
        "#Train/Test Split\n",
        "training_sentences = sentences[0:training_size]\n",
        "testing_sentences = sentences[training_size:]\n",
        "training_labels = labels[0:training_size]\n",
        "testing_labels = labels[training_size:]"
      ],
      "metadata": {
        "id": "o25z9oJCyTv4"
      },
      "execution_count": null,
      "outputs": []
    },
    {
      "cell_type": "code",
      "source": [
        "# Tokenizing and Padding\n",
        "tokenizer = Tokenizer(num_words=vocab_size, oov_token=oov_tok)\n",
        "tokenizer.fit_on_texts(training_sentences)\n",
        "\n",
        "word_index = tokenizer.word_index\n",
        "\n",
        "training_sequences = tokenizer.texts_to_sequences(training_sentences)\n",
        "training_padded = pad_sequences(training_sequences, maxlen=max_length, padding=padding_type, truncating=trunc_type)\n",
        "\n",
        "testing_sequences = tokenizer.texts_to_sequences(testing_sentences)\n",
        "testing_padded = pad_sequences(testing_sequences, maxlen=max_length, padding=padding_type, truncating=trunc_type)"
      ],
      "metadata": {
        "id": "zcmXwbZvyYFG"
      },
      "execution_count": null,
      "outputs": []
    },
    {
      "cell_type": "code",
      "source": [
        "#word_index"
      ],
      "metadata": {
        "id": "WnSmcNpeybxX"
      },
      "execution_count": null,
      "outputs": []
    },
    {
      "cell_type": "code",
      "source": [
        "# Need this block to get it to work with TensorFlow 2.x\n",
        "training_padded = np.array(training_padded)\n",
        "training_labels = np.array(training_labels)\n",
        "testing_padded = np.array(testing_padded)\n",
        "testing_labels = np.array(testing_labels)"
      ],
      "metadata": {
        "id": "iBtAloPd0o7G"
      },
      "execution_count": null,
      "outputs": []
    },
    {
      "cell_type": "markdown",
      "source": [
        "Con la capa de embedding el modelo aprende la direccion de cada vector"
      ],
      "metadata": {
        "id": "l12YfPzzz7_R"
      }
    },
    {
      "cell_type": "code",
      "source": [
        "# Sequential model with a embbeding layer, Pooling layer and Dense layer\n",
        "model = tf.keras.Sequential([\n",
        "    tf.keras.layers.Embedding(vocab_size, embedding_dim, input_length=max_length),\n",
        "    tf.keras.layers.GlobalAveragePooling1D(),\n",
        "    tf.keras.layers.Dense(24, activation='relu'),\n",
        "    tf.keras.layers.Dense(1, activation='sigmoid')\n",
        "])\n",
        "model.compile(loss='binary_crossentropy',optimizer='adam',metrics=['accuracy'])"
      ],
      "metadata": {
        "id": "wmZXhEX6yhtD"
      },
      "execution_count": null,
      "outputs": []
    },
    {
      "cell_type": "code",
      "source": [
        "# Training\n",
        "num_epochs = 15\n",
        "history = model.fit(training_padded, training_labels, epochs=num_epochs, validation_data=(testing_padded, testing_labels), verbose=2)"
      ],
      "metadata": {
        "colab": {
          "base_uri": "https://localhost:8080/"
        },
        "id": "VAiZpaXyzNvx",
        "outputId": "e5f2861e-2bc3-4579-c490-84c2e6f30c1b"
      },
      "execution_count": null,
      "outputs": [
        {
          "output_type": "stream",
          "name": "stdout",
          "text": [
            "Epoch 1/15\n",
            "625/625 - 6s - loss: 0.5897 - accuracy: 0.6676 - val_loss: 0.4317 - val_accuracy: 0.8083 - 6s/epoch - 9ms/step\n",
            "Epoch 2/15\n",
            "625/625 - 2s - loss: 0.3783 - accuracy: 0.8321 - val_loss: 0.3819 - val_accuracy: 0.8319 - 2s/epoch - 3ms/step\n",
            "Epoch 3/15\n",
            "625/625 - 2s - loss: 0.3364 - accuracy: 0.8532 - val_loss: 0.3932 - val_accuracy: 0.8155 - 2s/epoch - 3ms/step\n",
            "Epoch 4/15\n",
            "625/625 - 2s - loss: 0.3186 - accuracy: 0.8579 - val_loss: 0.3735 - val_accuracy: 0.8305 - 2s/epoch - 3ms/step\n",
            "Epoch 5/15\n",
            "625/625 - 2s - loss: 0.3104 - accuracy: 0.8636 - val_loss: 0.3795 - val_accuracy: 0.8265 - 2s/epoch - 3ms/step\n",
            "Epoch 6/15\n",
            "625/625 - 2s - loss: 0.3039 - accuracy: 0.8673 - val_loss: 0.3924 - val_accuracy: 0.8283 - 2s/epoch - 3ms/step\n",
            "Epoch 7/15\n",
            "625/625 - 2s - loss: 0.2980 - accuracy: 0.8687 - val_loss: 0.3970 - val_accuracy: 0.8223 - 2s/epoch - 3ms/step\n",
            "Epoch 8/15\n",
            "625/625 - 2s - loss: 0.2980 - accuracy: 0.8684 - val_loss: 0.3900 - val_accuracy: 0.8298 - 2s/epoch - 3ms/step\n",
            "Epoch 9/15\n",
            "625/625 - 2s - loss: 0.2963 - accuracy: 0.8681 - val_loss: 0.3977 - val_accuracy: 0.8244 - 2s/epoch - 3ms/step\n",
            "Epoch 10/15\n",
            "625/625 - 2s - loss: 0.2940 - accuracy: 0.8694 - val_loss: 0.3958 - val_accuracy: 0.8271 - 2s/epoch - 3ms/step\n",
            "Epoch 11/15\n",
            "625/625 - 2s - loss: 0.2913 - accuracy: 0.8714 - val_loss: 0.3980 - val_accuracy: 0.8295 - 2s/epoch - 3ms/step\n",
            "Epoch 12/15\n",
            "625/625 - 2s - loss: 0.2895 - accuracy: 0.8733 - val_loss: 0.4180 - val_accuracy: 0.8202 - 2s/epoch - 3ms/step\n",
            "Epoch 13/15\n",
            "625/625 - 2s - loss: 0.2914 - accuracy: 0.8726 - val_loss: 0.4021 - val_accuracy: 0.8268 - 2s/epoch - 3ms/step\n",
            "Epoch 14/15\n",
            "625/625 - 2s - loss: 0.2905 - accuracy: 0.8713 - val_loss: 0.4062 - val_accuracy: 0.8271 - 2s/epoch - 3ms/step\n",
            "Epoch 15/15\n",
            "625/625 - 2s - loss: 0.2890 - accuracy: 0.8723 - val_loss: 0.4056 - val_accuracy: 0.8256 - 2s/epoch - 3ms/step\n"
          ]
        }
      ]
    },
    {
      "cell_type": "code",
      "source": [
        "# Plot results\n",
        "def plot_graphs(history, string):\n",
        "  plt.plot(history.history[string])\n",
        "  plt.plot(history.history['val_'+string])\n",
        "  plt.xlabel(\"Epochs\")\n",
        "  plt.ylabel(string)\n",
        "  plt.legend([string, 'val_'+string])\n",
        "  plt.show()\n",
        "  \n",
        "plot_graphs(history, \"accuracy\")\n",
        "plot_graphs(history, \"loss\")"
      ],
      "metadata": {
        "colab": {
          "base_uri": "https://localhost:8080/",
          "height": 542
        },
        "id": "r3doffWx0eQJ",
        "outputId": "61eef0e8-9055-4113-c904-e91b69638b3f"
      },
      "execution_count": null,
      "outputs": [
        {
          "output_type": "display_data",
          "data": {
            "text/plain": [
              "<Figure size 432x288 with 1 Axes>"
            ],
            "image/png": "[encoded data removed]"
          },
          "metadata": {
            "needs_background": "light"
          }
        },
        {
          "output_type": "display_data",
          "data": {
            "text/plain": [
              "<Figure size 432x288 with 1 Axes>"
            ],
            "image/png": "[encoded data removed]"
          },
          "metadata": {
            "needs_background": "light"
          }
        }
      ]
    },
    {
      "cell_type": "code",
      "source": [
        "reverse_word_index = dict([(value, key) for (key, value) in word_index.items()])\n",
        "\n",
        "def decode_sentence(text):\n",
        "    return ' '.join([reverse_word_index.get(i, '?') for i in text])\n",
        "\n",
        "print(decode_sentence(training_padded[0]))\n",
        "print(training_sentences[4])\n",
        "print(labels[2])"
      ],
      "metadata": {
        "colab": {
          "base_uri": "https://localhost:8080/"
        },
        "id": "jN_0JGZE022S",
        "outputId": "bf71b458-8762-4d0c-bb22-af2e8bce2108"
      },
      "execution_count": null,
      "outputs": [
        {
          "output_type": "stream",
          "name": "stdout",
          "text": [
            "former <OOV> store <OOV> <OOV> over secret <OOV> <OOV> for <OOV> <OOV> ? ? ? ? ? ? ? ? ? ? ? ? ? ? ? ? ? ? ? ? ? ? ? ? ? ? ? ? ? ? ? ? ? ? ? ? ? ? ? ? ? ? ? ? ? ? ? ? ? ? ? ? ? ? ? ? ? ? ? ? ? ? ? ? ? ? ? ? ? ? ? ? ? ? ? ? ? ? ? ? ? ? ? ? ? ? ? ?\n",
            "j.k. rowling wishes snape happy birthday in the most magical way\n",
            "1\n"
          ]
        }
      ]
    },
    {
      "cell_type": "code",
      "source": [
        "# Prediction Example\n",
        "sentence = [\"granny starting to fear spiders in the garden might be real\", \"game of thrones season finale showing this sunday night\"]\n",
        "sequences = tokenizer.texts_to_sequences(sentence)\n",
        "padded = pad_sequences(sequences, maxlen=max_length, padding=padding_type, truncating=trunc_type)\n",
        "print(model.predict(padded))"
      ],
      "metadata": {
        "colab": {
          "base_uri": "https://localhost:8080/"
        },
        "id": "LCIRLFcv1dEg",
        "outputId": "718ce066-9ed0-4a84-efae-79ae1a0e2d77"
      },
      "execution_count": null,
      "outputs": [
        {
          "output_type": "stream",
          "name": "stdout",
          "text": [
            "[[0.33643568]\n",
            " [0.03937497]]\n"
          ]
        }
      ]
    },
    {
      "cell_type": "markdown",
      "source": [
        "## Improving performance"
      ],
      "metadata": {
        "id": "0k_fFOWB313i"
      }
    },
    {
      "cell_type": "code",
      "source": [
        " # Introducing Bidirectional layer\n",
        " model = tf.keras.Sequential([\n",
        "    tf.keras.layers.Embedding(vocab_size, embedding_dim ),\n",
        "    tf.keras.layers.Bidirectional(tf.keras.layers.LSTM(embedding_dim)), \n",
        "    tf.keras.layers.Dense(1, activation='sigmoid')\n",
        "])\n",
        "model.compile(loss='binary_crossentropy',optimizer='adam',metrics=['accuracy'])"
      ],
      "metadata": {
        "id": "ShnLM6fn30ex"
      },
      "execution_count": null,
      "outputs": []
    },
    {
      "cell_type": "code",
      "source": [
        "# Training model\n",
        "num_epochs = 10\n",
        "history = model.fit(training_padded, training_labels, epochs=num_epochs, validation_data=(testing_padded, testing_labels), verbose=2)"
      ],
      "metadata": {
        "colab": {
          "base_uri": "https://localhost:8080/"
        },
        "id": "QsEE0xOw5QqX",
        "outputId": "744b4974-11c4-4e18-9126-fea65843ed98"
      },
      "execution_count": null,
      "outputs": [
        {
          "output_type": "stream",
          "name": "stdout",
          "text": [
            "Epoch 1/10\n",
            "625/625 - 13s - loss: 0.4105 - accuracy: 0.8052 - val_loss: 0.3561 - val_accuracy: 0.8378 - 13s/epoch - 21ms/step\n",
            "Epoch 2/10\n",
            "625/625 - 8s - loss: 0.2999 - accuracy: 0.8684 - val_loss: 0.3542 - val_accuracy: 0.8410 - 8s/epoch - 12ms/step\n",
            "Epoch 3/10\n",
            "625/625 - 8s - loss: 0.2569 - accuracy: 0.8909 - val_loss: 0.3595 - val_accuracy: 0.8399 - 8s/epoch - 12ms/step\n",
            "Epoch 4/10\n",
            "625/625 - 7s - loss: 0.2263 - accuracy: 0.9045 - val_loss: 0.3644 - val_accuracy: 0.8420 - 7s/epoch - 11ms/step\n",
            "Epoch 5/10\n",
            "625/625 - 7s - loss: 0.1988 - accuracy: 0.9168 - val_loss: 0.3881 - val_accuracy: 0.8427 - 7s/epoch - 11ms/step\n",
            "Epoch 6/10\n",
            "625/625 - 7s - loss: 0.1703 - accuracy: 0.9315 - val_loss: 0.4589 - val_accuracy: 0.8366 - 7s/epoch - 11ms/step\n",
            "Epoch 7/10\n",
            "625/625 - 7s - loss: 0.1466 - accuracy: 0.9421 - val_loss: 0.5125 - val_accuracy: 0.8296 - 7s/epoch - 11ms/step\n",
            "Epoch 8/10\n",
            "625/625 - 7s - loss: 0.1210 - accuracy: 0.9517 - val_loss: 0.5877 - val_accuracy: 0.8344 - 7s/epoch - 11ms/step\n",
            "Epoch 9/10\n",
            "625/625 - 9s - loss: 0.1072 - accuracy: 0.9594 - val_loss: 0.5936 - val_accuracy: 0.8328 - 9s/epoch - 15ms/step\n",
            "Epoch 10/10\n",
            "625/625 - 7s - loss: 0.0856 - accuracy: 0.9675 - val_loss: 0.7123 - val_accuracy: 0.8269 - 7s/epoch - 11ms/step\n"
          ]
        }
      ]
    },
    {
      "cell_type": "code",
      "source": [
        "#Plot results\n",
        "def plot_graphs(history, string):\n",
        "  plt.plot(history.history[string])\n",
        "  plt.plot(history.history['val_'+string])\n",
        "  plt.xlabel(\"Epochs\")\n",
        "  plt.ylabel(string)\n",
        "  plt.legend([string, 'val_'+string])\n",
        "  plt.show()\n",
        "  \n",
        "plot_graphs(history, \"accuracy\")\n",
        "plot_graphs(history, \"loss\")"
      ],
      "metadata": {
        "colab": {
          "base_uri": "https://localhost:8080/",
          "height": 541
        },
        "id": "NUeDy2Pf5RFD",
        "outputId": "bd858343-7239-40de-94f6-253ece80baa8"
      },
      "execution_count": null,
      "outputs": [
        {
          "output_type": "display_data",
          "data": {
            "text/plain": [
              "<Figure size 432x288 with 1 Axes>"
            ],
            "image/png": "[encoded data removed]"
          },
          "metadata": {
            "needs_background": "light"
          }
        },
        {
          "output_type": "display_data",
          "data": {
            "text/plain": [
              "<Figure size 432x288 with 1 Axes>"
            ],
            "image/png": "[encoded data removed]"
          },
          "metadata": {
            "needs_background": "light"
          }
        }
      ]
    }
  ]
}